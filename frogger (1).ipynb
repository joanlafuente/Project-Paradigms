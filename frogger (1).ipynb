{
  "metadata": {
    "kernelspec": {
      "name": "python3",
      "display_name": "Python 3"
    },
    "language_info": {
      "name": "python",
      "version": "3.10.14",
      "mimetype": "text/x-python",
      "codemirror_mode": {
        "name": "ipython",
        "version": 3
      },
      "pygments_lexer": "ipython3",
      "nbconvert_exporter": "python",
      "file_extension": ".py"
    },
    "colab": {
      "provenance": [],
      "collapsed_sections": [
        "VT0AJBV4DVG9",
        "zWebh6GnDVG-",
        "4Elow1ouwp0K"
      ],
      "gpuType": "T4"
    },
    "accelerator": "GPU",
    "widgets": {
      "application/vnd.jupyter.widget-state+json": {
        "9a6bac2ab029405aa764dcfb070138ac": {
          "model_module": "@jupyter-widgets/controls",
          "model_name": "VBoxModel",
          "model_module_version": "1.5.0",
          "state": {
            "_dom_classes": [],
            "_model_module": "@jupyter-widgets/controls",
            "_model_module_version": "1.5.0",
            "_model_name": "VBoxModel",
            "_view_count": null,
            "_view_module": "@jupyter-widgets/controls",
            "_view_module_version": "1.5.0",
            "_view_name": "VBoxView",
            "box_style": "",
            "children": [
              "IPY_MODEL_89941714363844a3afda72fa0b695397",
              "IPY_MODEL_e4baafc07f2e47309a6e298f7a788055"
            ],
            "layout": "IPY_MODEL_b8f3263a121542b4bca460982f6888f2"
          }
        },
        "89941714363844a3afda72fa0b695397": {
          "model_module": "@jupyter-widgets/controls",
          "model_name": "LabelModel",
          "model_module_version": "1.5.0",
          "state": {
            "_dom_classes": [],
            "_model_module": "@jupyter-widgets/controls",
            "_model_module_version": "1.5.0",
            "_model_name": "LabelModel",
            "_view_count": null,
            "_view_module": "@jupyter-widgets/controls",
            "_view_module_version": "1.5.0",
            "_view_name": "LabelView",
            "description": "",
            "description_tooltip": null,
            "layout": "IPY_MODEL_425f16caa13c46918b10426abd5a902c",
            "placeholder": "​",
            "style": "IPY_MODEL_a302b45f9d46403bac072f8d638ce31a",
            "value": "0.307 MB of 0.307 MB uploaded\r"
          }
        },
        "e4baafc07f2e47309a6e298f7a788055": {
          "model_module": "@jupyter-widgets/controls",
          "model_name": "FloatProgressModel",
          "model_module_version": "1.5.0",
          "state": {
            "_dom_classes": [],
            "_model_module": "@jupyter-widgets/controls",
            "_model_module_version": "1.5.0",
            "_model_name": "FloatProgressModel",
            "_view_count": null,
            "_view_module": "@jupyter-widgets/controls",
            "_view_module_version": "1.5.0",
            "_view_name": "ProgressView",
            "bar_style": "",
            "description": "",
            "description_tooltip": null,
            "layout": "IPY_MODEL_f78f41657ee84d439c54002077f6adec",
            "max": 1,
            "min": 0,
            "orientation": "horizontal",
            "style": "IPY_MODEL_119590528bd44ea48997c13f57a42c9d",
            "value": 1
          }
        },
        "b8f3263a121542b4bca460982f6888f2": {
          "model_module": "@jupyter-widgets/base",
          "model_name": "LayoutModel",
          "model_module_version": "1.2.0",
          "state": {
            "_model_module": "@jupyter-widgets/base",
            "_model_module_version": "1.2.0",
            "_model_name": "LayoutModel",
            "_view_count": null,
            "_view_module": "@jupyter-widgets/base",
            "_view_module_version": "1.2.0",
            "_view_name": "LayoutView",
            "align_content": null,
            "align_items": null,
            "align_self": null,
            "border": null,
            "bottom": null,
            "display": null,
            "flex": null,
            "flex_flow": null,
            "grid_area": null,
            "grid_auto_columns": null,
            "grid_auto_flow": null,
            "grid_auto_rows": null,
            "grid_column": null,
            "grid_gap": null,
            "grid_row": null,
            "grid_template_areas": null,
            "grid_template_columns": null,
            "grid_template_rows": null,
            "height": null,
            "justify_content": null,
            "justify_items": null,
            "left": null,
            "margin": null,
            "max_height": null,
            "max_width": null,
            "min_height": null,
            "min_width": null,
            "object_fit": null,
            "object_position": null,
            "order": null,
            "overflow": null,
            "overflow_x": null,
            "overflow_y": null,
            "padding": null,
            "right": null,
            "top": null,
            "visibility": null,
            "width": null
          }
        },
        "425f16caa13c46918b10426abd5a902c": {
          "model_module": "@jupyter-widgets/base",
          "model_name": "LayoutModel",
          "model_module_version": "1.2.0",
          "state": {
            "_model_module": "@jupyter-widgets/base",
            "_model_module_version": "1.2.0",
            "_model_name": "LayoutModel",
            "_view_count": null,
            "_view_module": "@jupyter-widgets/base",
            "_view_module_version": "1.2.0",
            "_view_name": "LayoutView",
            "align_content": null,
            "align_items": null,
            "align_self": null,
            "border": null,
            "bottom": null,
            "display": null,
            "flex": null,
            "flex_flow": null,
            "grid_area": null,
            "grid_auto_columns": null,
            "grid_auto_flow": null,
            "grid_auto_rows": null,
            "grid_column": null,
            "grid_gap": null,
            "grid_row": null,
            "grid_template_areas": null,
            "grid_template_columns": null,
            "grid_template_rows": null,
            "height": null,
            "justify_content": null,
            "justify_items": null,
            "left": null,
            "margin": null,
            "max_height": null,
            "max_width": null,
            "min_height": null,
            "min_width": null,
            "object_fit": null,
            "object_position": null,
            "order": null,
            "overflow": null,
            "overflow_x": null,
            "overflow_y": null,
            "padding": null,
            "right": null,
            "top": null,
            "visibility": null,
            "width": null
          }
        },
        "a302b45f9d46403bac072f8d638ce31a": {
          "model_module": "@jupyter-widgets/controls",
          "model_name": "DescriptionStyleModel",
          "model_module_version": "1.5.0",
          "state": {
            "_model_module": "@jupyter-widgets/controls",
            "_model_module_version": "1.5.0",
            "_model_name": "DescriptionStyleModel",
            "_view_count": null,
            "_view_module": "@jupyter-widgets/base",
            "_view_module_version": "1.2.0",
            "_view_name": "StyleView",
            "description_width": ""
          }
        },
        "f78f41657ee84d439c54002077f6adec": {
          "model_module": "@jupyter-widgets/base",
          "model_name": "LayoutModel",
          "model_module_version": "1.2.0",
          "state": {
            "_model_module": "@jupyter-widgets/base",
            "_model_module_version": "1.2.0",
            "_model_name": "LayoutModel",
            "_view_count": null,
            "_view_module": "@jupyter-widgets/base",
            "_view_module_version": "1.2.0",
            "_view_name": "LayoutView",
            "align_content": null,
            "align_items": null,
            "align_self": null,
            "border": null,
            "bottom": null,
            "display": null,
            "flex": null,
            "flex_flow": null,
            "grid_area": null,
            "grid_auto_columns": null,
            "grid_auto_flow": null,
            "grid_auto_rows": null,
            "grid_column": null,
            "grid_gap": null,
            "grid_row": null,
            "grid_template_areas": null,
            "grid_template_columns": null,
            "grid_template_rows": null,
            "height": null,
            "justify_content": null,
            "justify_items": null,
            "left": null,
            "margin": null,
            "max_height": null,
            "max_width": null,
            "min_height": null,
            "min_width": null,
            "object_fit": null,
            "object_position": null,
            "order": null,
            "overflow": null,
            "overflow_x": null,
            "overflow_y": null,
            "padding": null,
            "right": null,
            "top": null,
            "visibility": null,
            "width": null
          }
        },
        "119590528bd44ea48997c13f57a42c9d": {
          "model_module": "@jupyter-widgets/controls",
          "model_name": "ProgressStyleModel",
          "model_module_version": "1.5.0",
          "state": {
            "_model_module": "@jupyter-widgets/controls",
            "_model_module_version": "1.5.0",
            "_model_name": "ProgressStyleModel",
            "_view_count": null,
            "_view_module": "@jupyter-widgets/base",
            "_view_module_version": "1.2.0",
            "_view_name": "StyleView",
            "bar_color": null,
            "description_width": ""
          }
        }
      }
    },
    "kaggle": {
      "accelerator": "nvidiaTeslaT4",
      "dataSources": [],
      "dockerImageVersionId": 30804,
      "isInternetEnabled": false,
      "language": "python",
      "sourceType": "notebook",
      "isGpuEnabled": true
    }
  },
  "nbformat_minor": 0,
  "nbformat": 4,
  "cells": [
    {
      "cell_type": "code",
      "source": [
        "# Install the ALE package\n",
        "!pip install ale-py\n",
        "!pip install gymnasium==1.0.0\n",
        "!pip install stable_baselines3"
      ],
      "metadata": {
        "colab": {
          "base_uri": "https://localhost:8080/"
        },
        "id": "P0OI9mQrDVG8",
        "outputId": "738527e3-2040-4bd8-a812-996afb9eabdb",
        "trusted": true,
        "execution": {
          "iopub.status.busy": "2024-12-06T22:47:18.654986Z",
          "iopub.execute_input": "2024-12-06T22:47:18.655700Z"
        }
      },
      "outputs": [
        {
          "output_type": "stream",
          "name": "stdout",
          "text": [
            "Collecting ale-py\n",
            "  Downloading ale_py-0.10.1-cp310-cp310-manylinux_2_17_x86_64.manylinux2014_x86_64.whl.metadata (7.6 kB)\n",
            "Requirement already satisfied: numpy>1.20 in /usr/local/lib/python3.10/dist-packages (from ale-py) (1.26.4)\n",
            "Requirement already satisfied: typing-extensions in /usr/local/lib/python3.10/dist-packages (from ale-py) (4.12.2)\n",
            "Downloading ale_py-0.10.1-cp310-cp310-manylinux_2_17_x86_64.manylinux2014_x86_64.whl (2.1 MB)\n",
            "\u001b[2K   \u001b[90m━━━━━━━━━━━━━━━━━━━━━━━━━━━━━━━━━━━━━━━━\u001b[0m \u001b[32m2.1/2.1 MB\u001b[0m \u001b[31m28.1 MB/s\u001b[0m eta \u001b[36m0:00:00\u001b[0m\n",
            "\u001b[?25hInstalling collected packages: ale-py\n",
            "Successfully installed ale-py-0.10.1\n",
            "Collecting gymnasium==1.0.0\n",
            "  Downloading gymnasium-1.0.0-py3-none-any.whl.metadata (9.5 kB)\n",
            "Requirement already satisfied: numpy>=1.21.0 in /usr/local/lib/python3.10/dist-packages (from gymnasium==1.0.0) (1.26.4)\n",
            "Requirement already satisfied: cloudpickle>=1.2.0 in /usr/local/lib/python3.10/dist-packages (from gymnasium==1.0.0) (3.1.0)\n",
            "Requirement already satisfied: typing-extensions>=4.3.0 in /usr/local/lib/python3.10/dist-packages (from gymnasium==1.0.0) (4.12.2)\n",
            "Collecting farama-notifications>=0.0.1 (from gymnasium==1.0.0)\n",
            "  Downloading Farama_Notifications-0.0.4-py3-none-any.whl.metadata (558 bytes)\n",
            "Downloading gymnasium-1.0.0-py3-none-any.whl (958 kB)\n",
            "\u001b[2K   \u001b[90m━━━━━━━━━━━━━━━━━━━━━━━━━━━━━━━━━━━━━━━━\u001b[0m \u001b[32m958.1/958.1 kB\u001b[0m \u001b[31m14.7 MB/s\u001b[0m eta \u001b[36m0:00:00\u001b[0m\n",
            "\u001b[?25hDownloading Farama_Notifications-0.0.4-py3-none-any.whl (2.5 kB)\n",
            "Installing collected packages: farama-notifications, gymnasium\n",
            "Successfully installed farama-notifications-0.0.4 gymnasium-1.0.0\n",
            "Collecting stable_baselines3\n",
            "  Downloading stable_baselines3-2.4.0-py3-none-any.whl.metadata (4.5 kB)\n",
            "Requirement already satisfied: gymnasium<1.1.0,>=0.29.1 in /usr/local/lib/python3.10/dist-packages (from stable_baselines3) (1.0.0)\n",
            "Requirement already satisfied: numpy<2.0,>=1.20 in /usr/local/lib/python3.10/dist-packages (from stable_baselines3) (1.26.4)\n",
            "Requirement already satisfied: torch>=1.13 in /usr/local/lib/python3.10/dist-packages (from stable_baselines3) (2.5.1+cu121)\n",
            "Requirement already satisfied: cloudpickle in /usr/local/lib/python3.10/dist-packages (from stable_baselines3) (3.1.0)\n",
            "Requirement already satisfied: pandas in /usr/local/lib/python3.10/dist-packages (from stable_baselines3) (2.2.2)\n",
            "Requirement already satisfied: matplotlib in /usr/local/lib/python3.10/dist-packages (from stable_baselines3) (3.8.0)\n",
            "Requirement already satisfied: typing-extensions>=4.3.0 in /usr/local/lib/python3.10/dist-packages (from gymnasium<1.1.0,>=0.29.1->stable_baselines3) (4.12.2)\n",
            "Requirement already satisfied: farama-notifications>=0.0.1 in /usr/local/lib/python3.10/dist-packages (from gymnasium<1.1.0,>=0.29.1->stable_baselines3) (0.0.4)\n",
            "Requirement already satisfied: filelock in /usr/local/lib/python3.10/dist-packages (from torch>=1.13->stable_baselines3) (3.16.1)\n",
            "Requirement already satisfied: networkx in /usr/local/lib/python3.10/dist-packages (from torch>=1.13->stable_baselines3) (3.4.2)\n",
            "Requirement already satisfied: jinja2 in /usr/local/lib/python3.10/dist-packages (from torch>=1.13->stable_baselines3) (3.1.4)\n",
            "Requirement already satisfied: fsspec in /usr/local/lib/python3.10/dist-packages (from torch>=1.13->stable_baselines3) (2024.10.0)\n",
            "Requirement already satisfied: sympy==1.13.1 in /usr/local/lib/python3.10/dist-packages (from torch>=1.13->stable_baselines3) (1.13.1)\n",
            "Requirement already satisfied: mpmath<1.4,>=1.1.0 in /usr/local/lib/python3.10/dist-packages (from sympy==1.13.1->torch>=1.13->stable_baselines3) (1.3.0)\n",
            "Requirement already satisfied: contourpy>=1.0.1 in /usr/local/lib/python3.10/dist-packages (from matplotlib->stable_baselines3) (1.3.1)\n",
            "Requirement already satisfied: cycler>=0.10 in /usr/local/lib/python3.10/dist-packages (from matplotlib->stable_baselines3) (0.12.1)\n",
            "Requirement already satisfied: fonttools>=4.22.0 in /usr/local/lib/python3.10/dist-packages (from matplotlib->stable_baselines3) (4.55.1)\n",
            "Requirement already satisfied: kiwisolver>=1.0.1 in /usr/local/lib/python3.10/dist-packages (from matplotlib->stable_baselines3) (1.4.7)\n",
            "Requirement already satisfied: packaging>=20.0 in /usr/local/lib/python3.10/dist-packages (from matplotlib->stable_baselines3) (24.2)\n",
            "Requirement already satisfied: pillow>=6.2.0 in /usr/local/lib/python3.10/dist-packages (from matplotlib->stable_baselines3) (11.0.0)\n",
            "Requirement already satisfied: pyparsing>=2.3.1 in /usr/local/lib/python3.10/dist-packages (from matplotlib->stable_baselines3) (3.2.0)\n",
            "Requirement already satisfied: python-dateutil>=2.7 in /usr/local/lib/python3.10/dist-packages (from matplotlib->stable_baselines3) (2.8.2)\n",
            "Requirement already satisfied: pytz>=2020.1 in /usr/local/lib/python3.10/dist-packages (from pandas->stable_baselines3) (2024.2)\n",
            "Requirement already satisfied: tzdata>=2022.7 in /usr/local/lib/python3.10/dist-packages (from pandas->stable_baselines3) (2024.2)\n",
            "Requirement already satisfied: six>=1.5 in /usr/local/lib/python3.10/dist-packages (from python-dateutil>=2.7->matplotlib->stable_baselines3) (1.16.0)\n",
            "Requirement already satisfied: MarkupSafe>=2.0 in /usr/local/lib/python3.10/dist-packages (from jinja2->torch>=1.13->stable_baselines3) (3.0.2)\n",
            "Downloading stable_baselines3-2.4.0-py3-none-any.whl (183 kB)\n",
            "\u001b[2K   \u001b[90m━━━━━━━━━━━━━━━━━━━━━━━━━━━━━━━━━━━━━━━━\u001b[0m \u001b[32m183.9/183.9 kB\u001b[0m \u001b[31m4.1 MB/s\u001b[0m eta \u001b[36m0:00:00\u001b[0m\n",
            "\u001b[?25hInstalling collected packages: stable_baselines3\n",
            "Successfully installed stable_baselines3-2.4.0\n"
          ]
        }
      ],
      "execution_count": 1
    },
    {
      "cell_type": "code",
      "source": [
        "import gymnasium as gym\n",
        "from gymnasium.wrappers import MaxAndSkipObservation, ResizeObservation, GrayscaleObservation, FrameStackObservation, ReshapeObservation\n",
        "from stable_baselines3.common.atari_wrappers import NoopResetEnv, MaxAndSkipEnv, FireResetEnv, EpisodicLifeEnv\n",
        "import ale_py\n",
        "import cv2\n",
        "from gymnasium.spaces import Box\n",
        "from torch import nn\n",
        "import torch\n",
        "import torch.optim as optim\n",
        "import numpy as np\n",
        "import collections\n",
        "from tqdm import tqdm\n",
        "import wandb"
      ],
      "metadata": {
        "id": "uBf7PeJxDVG9",
        "colab": {
          "base_uri": "https://localhost:8080/"
        },
        "outputId": "16d04a24-e1b3-45ae-ffa7-b27d848016ee",
        "trusted": true
      },
      "outputs": [
        {
          "output_type": "stream",
          "name": "stderr",
          "text": [
            "/usr/local/lib/python3.10/dist-packages/ipykernel/ipkernel.py:283: DeprecationWarning: `should_run_async` will not call `transform_cell` automatically in the future. Please pass the result to `transformed_cell` argument and any exception that happen during thetransform in `preprocessing_exc_tuple` in IPython 7.17 and above.\n",
            "  and should_run_async(code)\n"
          ]
        }
      ],
      "execution_count": 7
    },
    {
      "cell_type": "code",
      "source": [
        "ENV_NAME = \"ALE/Frogger-v5\""
      ],
      "metadata": {
        "id": "rT_16NzPDVG9",
        "colab": {
          "base_uri": "https://localhost:8080/"
        },
        "outputId": "70252711-d334-4d81-a938-24fe3e231c4e",
        "trusted": true
      },
      "outputs": [
        {
          "output_type": "stream",
          "name": "stderr",
          "text": [
            "/usr/local/lib/python3.10/dist-packages/ipykernel/ipkernel.py:283: DeprecationWarning: `should_run_async` will not call `transform_cell` automatically in the future. Please pass the result to `transformed_cell` argument and any exception that happen during thetransform in `preprocessing_exc_tuple` in IPython 7.17 and above.\n",
            "  and should_run_async(code)\n"
          ]
        }
      ],
      "execution_count": 3
    },
    {
      "cell_type": "markdown",
      "source": [
        "### Enviroment preparation"
      ],
      "metadata": {
        "id": "VT0AJBV4DVG9"
      }
    },
    {
      "cell_type": "code",
      "source": [
        "class ScaledFloatFrame(gym.ObservationWrapper):\n",
        "    def observation(self, obs):\n",
        "        return np.array(obs).astype(np.float32) / 255.0\n",
        "\n",
        "\n",
        "def make_env(env_name):\n",
        "    env = gym.make(env_name, obs_type=\"grayscale\")\n",
        "    # env = FireResetEnv(env)\n",
        "    print(\"Standard Env.        : {}\".format(env.observation_space.shape))\n",
        "    env = MaxAndSkipObservation(env, skip=4)\n",
        "    print(\"MaxAndSkipObservation: {}\".format(env.observation_space.shape))\n",
        "    #env = FireResetEnv(env)\n",
        "    env = ResizeObservation(env, (84, 84))\n",
        "    print(\"ResizeObservation    : {}\".format(env.observation_space.shape))\n",
        "    env = FrameStackObservation(env, stack_size=4)\n",
        "    print(\"FrameStackObservation: {}\".format(env.observation_space.shape))\n",
        "    env = ScaledFloatFrame(env)\n",
        "    print(\"ScaledFloatFrame     : {}\".format(env.observation_space.shape))\n",
        "\n",
        "    return env\n",
        "\n",
        "\n",
        "env = make_env(ENV_NAME)\n",
        "print(\"\\nAction space is {} \".format(env.action_space))\n",
        "print(\"Observation space is {} \".format(env.observation_space))"
      ],
      "metadata": {
        "colab": {
          "base_uri": "https://localhost:8080/"
        },
        "id": "9UJtQbOZDVG9",
        "outputId": "3cf4d8a0-b3bc-4b48-ed87-48586fbe46a8",
        "trusted": true
      },
      "outputs": [
        {
          "output_type": "stream",
          "name": "stdout",
          "text": [
            "Standard Env.        : (210, 160)\n",
            "MaxAndSkipObservation: (210, 160)\n",
            "ResizeObservation    : (84, 84)\n",
            "FrameStackObservation: (4, 84, 84)\n",
            "ScaledFloatFrame     : (4, 84, 84)\n",
            "\n",
            "Action space is Discrete(5) \n",
            "Observation space is Box(0, 255, (4, 84, 84), uint8) \n"
          ]
        }
      ],
      "execution_count": 5
    },
    {
      "cell_type": "code",
      "source": [
        "class FrameStackObservation(gym.Wrapper):\n",
        "    def __init__(self, env, stack_size):\n",
        "        \"\"\"Constructor\"\"\"\n",
        "        gym.Wrapper.__init__(self, env)\n",
        "        self.stack_size = stack_size\n",
        "        self.frames = deque([], maxlen=stack_size)\n",
        "        shp = env.observation_space.shape\n",
        "        self.observation_space = Box(0.0, 1.0, (stack_size, shp[0], shp[1]), dtype=np.float32)\n",
        "\n",
        "    def reset(self, **kwargs):\n",
        "        \"\"\"Reset the environment\"\"\"\n",
        "        observation, info = self.env.reset()\n",
        "        for _ in range(self.stack_size):\n",
        "            self.frames.append(observation)\n",
        "        return self._get_observation(), info\n",
        "\n",
        "    def step(self, action):\n",
        "        \"\"\"Take a step\"\"\"\n",
        "        observation, reward, done, truncated, info = self.env.step(action)\n",
        "        self.frames.append(observation)\n",
        "        return self._get_observation(), reward, done, truncated, info\n",
        "\n",
        "    def _get_observation(self):\n",
        "        \"\"\"Get the observation\"\"\"\n",
        "        frames_list = [frame for frame in self.frames]\n",
        "        return np.stack(frames_list, axis=0)\n",
        "\n",
        "class ScaleAndReshapeObservation(gym.ObservationWrapper):\n",
        "    def __init__(self, env):\n",
        "        \"\"\"Constructor\"\"\"\n",
        "        gym.ObservationWrapper.__init__(self, env)\n",
        "        self.observation_space = Box(0.0, 1.0, env.observation_space.shape, dtype=np.float32)\n",
        "\n",
        "    def observation(self, observation):\n",
        "        \"\"\"Observation\"\"\"\n",
        "        if type(observation) == tuple:\n",
        "            observation, info = observation\n",
        "\n",
        "            observation = cv2.resize(observation, (84, 84))\n",
        "            return (np.array(observation).astype(np.float32) / 255.0, info)\n",
        "        else:\n",
        "            observation = cv2.resize(observation, (84, 84))\n",
        "            return np.array(observation).astype(np.float32) / 255.0\n",
        "\n",
        "\n",
        "def preprocess_env(env_name):\n",
        "\n",
        "    env = gym.make(env_name, obs_type=\"grayscale\", render_mode='rgb_array')\n",
        "    env = NoopResetEnv(env, noop_max=4)\n",
        "    env = MaxAndSkipEnv(env, skip=2)\n",
        "    env = FireResetEnv(env)\n",
        "    env = EpisodicLifeEnv(env)\n",
        "    env = ScaleAndReshapeObservation(env)\n",
        "    env = FrameStackObservation(env, stack_size=4)\n",
        "\n",
        "    return env"
      ],
      "metadata": {
        "id": "1d4KNSrdlPsV",
        "trusted": true
      },
      "outputs": [],
      "execution_count": null
    },
    {
      "cell_type": "code",
      "source": [
        "env = preprocess_env(ENV_NAME)\n",
        "print(\"\\nAction space is {} \".format(env.action_space))\n",
        "print(\"Observation space is {} \".format(env.observation_space))"
      ],
      "metadata": {
        "id": "xLDGqzvslVnl",
        "trusted": true
      },
      "outputs": [],
      "execution_count": null
    },
    {
      "cell_type": "markdown",
      "source": [
        "### DQN Aproach"
      ],
      "metadata": {
        "id": "XlTAr0lNDVG9"
      }
    },
    {
      "cell_type": "code",
      "source": [
        "class DuelingDQN(nn.Module):\n",
        "    def __init__(self, input_shape, output_shape):\n",
        "        super(DuelingDQN, self).__init__()\n",
        "\n",
        "        self.net = nn.Sequential(\n",
        "            nn.Conv2d(input_shape[0], 32, kernel_size=5, stride=4),\n",
        "            nn.ReLU(),\n",
        "            nn.Conv2d(32, 64, kernel_size=3, stride=2),\n",
        "            nn.ReLU(),\n",
        "            nn.Conv2d(64, 64, kernel_size=3, stride=1),\n",
        "            nn.ReLU(),\n",
        "            nn.Conv2d(64, 64, kernel_size=3, stride=1),\n",
        "            nn.ReLU(),\n",
        "            nn.Flatten(),\n",
        "            nn.Linear(1600, 512),\n",
        "            nn.ReLU()\n",
        "        )\n",
        "\n",
        "        self.value_prediction = nn.Linear(512, 1)\n",
        "        self.advantage_prediction = nn.Linear(512, output_shape)\n",
        "\n",
        "\n",
        "    def forward(self, x):\n",
        "        embedding = self.net(x)\n",
        "        value = self.value_prediction(embedding)\n",
        "        advantage = self.advantage_prediction(embedding)\n",
        "        q_values = value + advantage - advantage.mean(dim=-1).unsqueeze(-1)\n",
        "        return q_values"
      ],
      "metadata": {
        "id": "sP70SugjDVG9",
        "trusted": true
      },
      "outputs": [],
      "execution_count": 8
    },
    {
      "cell_type": "code",
      "source": [
        "Experience = collections.namedtuple('Experience', field_names=['state', 'action', 'reward', 'done', 'new_state'])\n",
        "\n",
        "class Agent:\n",
        "    def __init__(self, env, exp_replay_buffer):\n",
        "        self.env = env\n",
        "        self.exp_replay_buffer = exp_replay_buffer\n",
        "        self._reset()\n",
        "\n",
        "    def _reset(self):\n",
        "        self.current_state = self.env.reset()[0]\n",
        "        self.total_reward = 0.0\n",
        "\n",
        "    def step(self, net, target_net, epsilon=0.0, device=\"cpu\"):\n",
        "        done_reward = None\n",
        "        if np.random.random() < epsilon:\n",
        "            action = env.action_space.sample()\n",
        "        else:\n",
        "            state_ = np.array([self.current_state])\n",
        "            state = torch.tensor(state_).to(device)\n",
        "            q_vals = net(state)\n",
        "            _, act_ = torch.max(q_vals, dim=1)\n",
        "            action = int(act_.item())\n",
        "\n",
        "        new_state, reward, terminated, truncated, _ = self.env.step(action)\n",
        "        is_done = terminated or truncated\n",
        "        self.total_reward += reward\n",
        "\n",
        "        exp = Experience(self.current_state, action, reward, is_done, new_state)\n",
        "        self.exp_replay_buffer.append(exp, net, target_net, device)\n",
        "        self.current_state = new_state\n",
        "\n",
        "        if is_done:\n",
        "            done_reward = self.total_reward\n",
        "            self._reset()\n",
        "\n",
        "        return done_reward"
      ],
      "metadata": {
        "id": "s8SQUYj4DVG9",
        "trusted": true
      },
      "outputs": [],
      "execution_count": 9
    },
    {
      "cell_type": "code",
      "source": [
        "# def compute_loss(model, target_model, states, actions, rewards, dones, next_states, gamma=0.99, criterion=nn.MSELoss()):\n",
        "#     Q_values = model(states).gather(1, actions.unsqueeze(-1)).squeeze(-1)\n",
        "\n",
        "#     next_state_values = target_model(next_states).max(1)[0]\n",
        "#     next_state_values[dones] = 0.0\n",
        "#     next_state_values = next_state_values.detach()\n",
        "\n",
        "#     expected_Q_values = next_state_values * gamma + rewards\n",
        "\n",
        "#     return criterion(Q_values, expected_Q_values)\n",
        "\n",
        "def compute_loss(model, target_model, states, actions, rewards, dones, next_states, gamma=0.99, criterion=nn.MSELoss(), device=\"cpu\"):\n",
        "    # Get the qvals of the DQN network\n",
        "    qvals = model(states).gather(1, actions.unsqueeze(-1)).squeeze(-1)\n",
        "\n",
        "    # Get the best action for the next state given the DQN network\n",
        "    actions_next = torch.argmax(model(next_states), dim=1)\n",
        "    # Get the qvals of the target network\n",
        "    with torch.no_grad():\n",
        "        qvals_next = target_model(next_states)\n",
        "\n",
        "    # Get the qvals of the target network for the best action considering the dqn network\n",
        "    qvals_next = torch.tensor(np.array([qvals_next[i][actions_next[i]].cpu() for i in range(len(actions_next))])).to(device)\n",
        "\n",
        "    qvals_next[dones] = 0\n",
        "\n",
        "    # Calculate the Bellman equation\n",
        "    expected_qvals = rewards + gamma * qvals_next\n",
        "\n",
        "    # Calculate the loss\n",
        "    return criterion(qvals, expected_qvals)"
      ],
      "metadata": {
        "id": "Vo1FgQVDDVG9",
        "trusted": true
      },
      "outputs": [],
      "execution_count": 11
    },
    {
      "cell_type": "code",
      "source": [
        "def compute_td_error(model, target_model, states, actions, rewards, dones, next_states, gamma=0.99, device=\"cpu\"):\n",
        "    states = torch.tensor(states).to(device)\n",
        "    actions = torch.tensor(actions).to(device)\n",
        "    rewards = torch.tensor(rewards).to(device)\n",
        "    dones = torch.tensor(dones).to(device)\n",
        "    next_states = torch.tensor(next_states).to(device)\n",
        "\n",
        "    with torch.no_grad():\n",
        "        Q_values = model(states.unsqueeze(0)).gather(1, actions.unsqueeze(0).unsqueeze(-1)).squeeze(-1)\n",
        "\n",
        "        next_state_values = target_model(next_states.unsqueeze(0)).max(1)[0]\n",
        "        next_state_values[dones] = 0.0\n",
        "        next_state_values = next_state_values.detach()\n",
        "\n",
        "        expected_Q_values = next_state_values * gamma + rewards\n",
        "\n",
        "    return (Q_values - expected_Q_values).abs().detach().item()"
      ],
      "metadata": {
        "id": "tqlWztE9DVG-",
        "trusted": true
      },
      "outputs": [],
      "execution_count": 12
    },
    {
      "cell_type": "code",
      "source": [
        "class PrioritizedExperienceReplay:\n",
        "    \"\"\"\n",
        "    D'aquest metode no se si es correcte del tot, en comptes de calcular el\n",
        "    td_error quan faig el sampling ho he implementat en el moment en que safegeix al buffer.\n",
        "\n",
        "    D'aquesta forma no augmenta molt tant al numero de claculs extra (Sino shauria de clacular\n",
        "    per a tot el buffer cada vegada que fem sampling)\n",
        "    \"\"\"\n",
        "    def __init__(self, capacity):\n",
        "        self.buffer = collections.deque(maxlen=capacity)\n",
        "        self.priorities = collections.deque(maxlen=capacity)\n",
        "\n",
        "    def __len__(self):\n",
        "        return len(self.buffer)\n",
        "\n",
        "    def append(self, experience, model, target_model, device=\"cpu\"):\n",
        "        td_error = compute_td_error(model, target_model, experience.state, experience.action, experience.reward, experience.done, experience.new_state, device=device)\n",
        "        self.priorities.append(td_error)\n",
        "        self.buffer.append(experience)\n",
        "\n",
        "    def sample(self, BATCH_SIZE, alpha=0.6, beta=0.4, epsilon=0.01):\n",
        "        priorities = np.array(self.priorities)\n",
        "        priorities = priorities + epsilon\n",
        "        probabilities = priorities ** alpha\n",
        "        probabilities = probabilities / probabilities.sum()\n",
        "\n",
        "        indices = np.random.choice(len(self.buffer), BATCH_SIZE, p=probabilities)\n",
        "        weights = (1/len(self.buffer) * 1/probabilities[indices]) ** beta\n",
        "        states, actions, rewards, dones, next_states = zip(*[self.buffer[idx] for idx in indices])\n",
        "\n",
        "        states = torch.from_numpy(np.array(states, dtype=np.float32))\n",
        "        actions = torch.from_numpy(np.array(actions, dtype=np.int64))\n",
        "        rewards = torch.from_numpy(np.array(rewards, dtype=np.float32))\n",
        "        dones = torch.from_numpy(np.array(dones, dtype=bool))\n",
        "        next_states = torch.from_numpy(np.array(next_states, dtype=np.float32))\n",
        "        weights = torch.from_numpy(np.array(weights, dtype=np.float32))\n",
        "\n",
        "        return states, actions, rewards, dones, next_states, weights"
      ],
      "metadata": {
        "id": "80IE9lXgDVG-",
        "trusted": true
      },
      "outputs": [],
      "execution_count": 13
    },
    {
      "cell_type": "markdown",
      "source": [
        "#### Hyperparameters"
      ],
      "metadata": {
        "id": "PyGx30WXDVG-"
      }
    },
    {
      "cell_type": "code",
      "source": [
        "MEAN_REWARD_BOUND = 350.0\n",
        "NUMBER_OF_REWARDS_TO_AVERAGE = 10\n",
        "\n",
        "GAMMA = 0.99\n",
        "\n",
        "BATCH_SIZE = 64\n",
        "LEARNING_RATE = 0.0001\n",
        "\n",
        "EXPERIENCE_REPLAY_SIZE = 10000\n",
        "SYNC_TARGET_NETWORK = 1000\n",
        "\n",
        "EPS_START = 1.0\n",
        "EPS_DECAY = 0.999987\n",
        "EPS_MIN = 0.03"
      ],
      "metadata": {
        "id": "qDdEmUJIDVG-",
        "trusted": true
      },
      "outputs": [],
      "execution_count": 25
    },
    {
      "cell_type": "code",
      "source": [
        "device = torch.device(\"cuda\" if torch.cuda.is_available() else \"cpu\")\n",
        "wandb.login()"
      ],
      "metadata": {
        "id": "e9MjsNGvDVG-",
        "colab": {
          "base_uri": "https://localhost:8080/"
        },
        "outputId": "2384426b-693a-432f-ce0f-dcb5b214dee4",
        "trusted": true
      },
      "outputs": [
        {
          "output_type": "stream",
          "name": "stderr",
          "text": [
            "\u001b[34m\u001b[1mwandb\u001b[0m: \u001b[33mWARNING\u001b[0m Calling wandb.login() after wandb.init() has no effect.\n"
          ]
        },
        {
          "output_type": "execute_result",
          "data": {
            "text/plain": [
              "True"
            ]
          },
          "metadata": {},
          "execution_count": 26
        }
      ],
      "execution_count": 26
    },
    {
      "cell_type": "code",
      "source": [
        "wandb.init(project=\"Frogger\", name=\"DQN\")\n",
        "wandb.config.update({\"gamma\": GAMMA, \"batch_size\": BATCH_SIZE, \"learning_rate\": LEARNING_RATE, \"experience_replay_size\": EXPERIENCE_REPLAY_SIZE, \"sync_target_network\": SYNC_TARGET_NETWORK, \"eps_start\": EPS_START, \"eps_decay\": EPS_DECAY, \"eps_min\": EPS_MIN})"
      ],
      "metadata": {
        "id": "BjCkdIp1DVG-",
        "outputId": "66f00674-d18f-43bf-bf69-74fe15d9ebb9",
        "colab": {
          "base_uri": "https://localhost:8080/",
          "height": 370,
          "referenced_widgets": [
            "9a6bac2ab029405aa764dcfb070138ac",
            "89941714363844a3afda72fa0b695397",
            "e4baafc07f2e47309a6e298f7a788055",
            "b8f3263a121542b4bca460982f6888f2",
            "425f16caa13c46918b10426abd5a902c",
            "a302b45f9d46403bac072f8d638ce31a",
            "f78f41657ee84d439c54002077f6adec",
            "119590528bd44ea48997c13f57a42c9d"
          ]
        },
        "trusted": true
      },
      "outputs": [
        {
          "output_type": "display_data",
          "data": {
            "text/plain": [
              "<IPython.core.display.HTML object>"
            ],
            "text/html": [
              "Finishing last run (ID:4g2rxlxa) before initializing another..."
            ]
          },
          "metadata": {}
        },
        {
          "output_type": "display_data",
          "data": {
            "text/plain": [
              "VBox(children=(Label(value='0.307 MB of 0.307 MB uploaded\\r'), FloatProgress(value=1.0, max=1.0)))"
            ],
            "application/vnd.jupyter.widget-view+json": {
              "version_major": 2,
              "version_minor": 0,
              "model_id": "9a6bac2ab029405aa764dcfb070138ac"
            }
          },
          "metadata": {}
        },
        {
          "output_type": "display_data",
          "data": {
            "text/plain": [
              "<IPython.core.display.HTML object>"
            ],
            "text/html": [
              "\n",
              "    <style>\n",
              "        .wandb-row {\n",
              "            display: flex;\n",
              "            flex-direction: row;\n",
              "            flex-wrap: wrap;\n",
              "            justify-content: flex-start;\n",
              "            width: 100%;\n",
              "        }\n",
              "        .wandb-col {\n",
              "            display: flex;\n",
              "            flex-direction: column;\n",
              "            flex-basis: 100%;\n",
              "            flex: 1;\n",
              "            padding: 10px;\n",
              "        }\n",
              "    </style>\n",
              "<div class=\"wandb-row\"><div class=\"wandb-col\"><h3>Run history:</h3><br/><table class=\"wandb\"><tr><td>epsilon</td><td>█████▇▇▇▇▇▆▆▆▆▆▅▅▅▅▅▄▄▄▄▃▃▃▃▃▃▂▂▂▂▂▂▂▁▁▁</td></tr><tr><td>reward</td><td>▃▅▆▄▄▆▃▇▃▃▃█▂▃▆▂▂▃▂▂▃▂▂▄▂▃▁▂▃▆▂▁▅▂▃▆▁▄▂▂</td></tr><tr><td>reward_100</td><td>▇█▇▇▆▆▆▆▆▆▆▅▄▄▅▃▃▃▂▂▁▄▄▆▆▅▄▅▅▄▃▄▅▄▄▁▃▅▅▄</td></tr></table><br/></div><div class=\"wandb-col\"><h3>Run summary:</h3><br/><table class=\"wandb\"><tr><td>epsilon</td><td>0.87929</td></tr><tr><td>reward</td><td>6</td></tr><tr><td>reward_100</td><td>7.5</td></tr></table><br/></div></div>"
            ]
          },
          "metadata": {}
        },
        {
          "output_type": "display_data",
          "data": {
            "text/plain": [
              "<IPython.core.display.HTML object>"
            ],
            "text/html": [
              " View run <strong style=\"color:#cdcd00\">DQN</strong> at: <a href='https://wandb.ai/joanlafuente/Frogger/runs/4g2rxlxa' target=\"_blank\">https://wandb.ai/joanlafuente/Frogger/runs/4g2rxlxa</a><br/> View project at: <a href='https://wandb.ai/joanlafuente/Frogger' target=\"_blank\">https://wandb.ai/joanlafuente/Frogger</a><br/>Synced 4 W&B file(s), 0 media file(s), 16 artifact file(s) and 0 other file(s)"
            ]
          },
          "metadata": {}
        },
        {
          "output_type": "display_data",
          "data": {
            "text/plain": [
              "<IPython.core.display.HTML object>"
            ],
            "text/html": [
              "Find logs at: <code>./wandb/run-20241206_225816-4g2rxlxa/logs</code>"
            ]
          },
          "metadata": {}
        },
        {
          "output_type": "display_data",
          "data": {
            "text/plain": [
              "<IPython.core.display.HTML object>"
            ],
            "text/html": [
              "Successfully finished last run (ID:4g2rxlxa). Initializing new run:<br/>"
            ]
          },
          "metadata": {}
        },
        {
          "output_type": "display_data",
          "data": {
            "text/plain": [
              "<IPython.core.display.HTML object>"
            ],
            "text/html": [
              "Tracking run with wandb version 0.18.7"
            ]
          },
          "metadata": {}
        },
        {
          "output_type": "display_data",
          "data": {
            "text/plain": [
              "<IPython.core.display.HTML object>"
            ],
            "text/html": [
              "Run data is saved locally in <code>/content/wandb/run-20241206_225933-cow72khl</code>"
            ]
          },
          "metadata": {}
        },
        {
          "output_type": "display_data",
          "data": {
            "text/plain": [
              "<IPython.core.display.HTML object>"
            ],
            "text/html": [
              "Syncing run <strong><a href='https://wandb.ai/joanlafuente/Frogger/runs/cow72khl' target=\"_blank\">DQN</a></strong> to <a href='https://wandb.ai/joanlafuente/Frogger' target=\"_blank\">Weights & Biases</a> (<a href='https://wandb.me/developer-guide' target=\"_blank\">docs</a>)<br/>"
            ]
          },
          "metadata": {}
        },
        {
          "output_type": "display_data",
          "data": {
            "text/plain": [
              "<IPython.core.display.HTML object>"
            ],
            "text/html": [
              " View project at <a href='https://wandb.ai/joanlafuente/Frogger' target=\"_blank\">https://wandb.ai/joanlafuente/Frogger</a>"
            ]
          },
          "metadata": {}
        },
        {
          "output_type": "display_data",
          "data": {
            "text/plain": [
              "<IPython.core.display.HTML object>"
            ],
            "text/html": [
              " View run at <a href='https://wandb.ai/joanlafuente/Frogger/runs/cow72khl' target=\"_blank\">https://wandb.ai/joanlafuente/Frogger/runs/cow72khl</a>"
            ]
          },
          "metadata": {}
        }
      ],
      "execution_count": 27
    },
    {
      "cell_type": "code",
      "source": [
        "env = make_env(ENV_NAME)\n",
        "\n",
        "net = DuelingDQN(env.observation_space.shape, env.action_space.n).to(device)\n",
        "target_net = DuelingDQN(env.observation_space.shape, env.action_space.n).to(device)\n",
        "\n",
        "buffer = PrioritizedExperienceReplay(EXPERIENCE_REPLAY_SIZE)\n",
        "agent = Agent(env, buffer)\n",
        "\n",
        "epsilon = EPS_START\n",
        "optimizer = optim.Adam(net.parameters(), lr=LEARNING_RATE)\n",
        "criterion = nn.MSELoss(reduction=\"none\")\n",
        "total_rewards = []\n",
        "frame_number = 0\n",
        "\n",
        "tbar = tqdm()\n",
        "while True:\n",
        "    frame_number += 1\n",
        "    epsilon = max(epsilon * EPS_DECAY, EPS_MIN)\n",
        "\n",
        "    reward = agent.step(net, target_net, epsilon, device=device)\n",
        "    if reward is not None:\n",
        "        total_rewards.append(reward)\n",
        "\n",
        "        mean_reward = np.mean(total_rewards[-NUMBER_OF_REWARDS_TO_AVERAGE:])\n",
        "        tbar.set_description(f\"Frame:{frame_number} | Total games:{len(total_rewards)} | Mean reward: {mean_reward:.3f}  (epsilon used: {epsilon:.2f})\")\n",
        "        wandb.log({\"epsilon\": epsilon, \"reward_100\": mean_reward, \"reward\": reward}, step=frame_number)\n",
        "\n",
        "        if mean_reward > MEAN_REWARD_BOUND:\n",
        "            print(f\"SOLVED in {frame_number} frames and {len(total_rewards)} games\")\n",
        "            break\n",
        "\n",
        "    if len(buffer) < EXPERIENCE_REPLAY_SIZE:\n",
        "        continue\n",
        "\n",
        "    states, actions, rewards, dones, next_states, weights = buffer.sample(BATCH_SIZE)\n",
        "    states, actions, rewards, dones, next_states, weights = states.to(device), actions.to(device), rewards.to(device), dones.to(device), next_states.to(device), weights.to(device)\n",
        "\n",
        "    loss = compute_loss(net, target_net, states, actions, rewards, dones, next_states, gamma=GAMMA, criterion=criterion, device=device)\n",
        "    loss = (loss * weights).mean()\n",
        "    wandb.log({\"loss\": loss.item()}, step=frame_number)\n",
        "    optimizer.zero_grad()\n",
        "    loss.backward()\n",
        "    optimizer.step()\n",
        "\n",
        "    if frame_number % SYNC_TARGET_NETWORK == 0:\n",
        "        target_net.load_state_dict(net.state_dict())"
      ],
      "metadata": {
        "id": "R9VYQm8CDVG-",
        "outputId": "2904710d-5ff8-46f4-9eac-63aa405c8245",
        "colab": {
          "base_uri": "https://localhost:8080/"
        },
        "trusted": true
      },
      "outputs": [
        {
          "output_type": "stream",
          "name": "stdout",
          "text": [
            "Standard Env.        : (210, 160)\n",
            "MaxAndSkipObservation: (210, 160)\n",
            "ResizeObservation    : (84, 84)\n",
            "FrameStackObservation: (4, 84, 84)\n",
            "ScaledFloatFrame     : (4, 84, 84)\n"
          ]
        },
        {
          "output_type": "stream",
          "name": "stderr",
          "text": [
            "0it [00:00, ?it/s]/usr/local/lib/python3.10/dist-packages/wandb/sdk/wandb_run.py:2380: UserWarning: Run (4g2rxlxa) is finished. The call to `_console_raw_callback` will be ignored. Please make sure that you are using an active run.\n",
            "  lambda data: self._console_raw_callback(\"stderr\", data),\n",
            "Frame:406 | Total games:4 | Mean reward: 7.500  (epsilon used: 0.99): : 0it [00:14, ?it/s]\n",
            "Frame:10861 | Total games:94 | Mean reward: 8.300  (epsilon used: 0.87): : 0it [01:07, ?it/s]"
          ]
        }
      ],
      "execution_count": null
    }
  ]
}