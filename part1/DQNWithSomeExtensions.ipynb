{
  "cells": [
    {
      "cell_type": "code",
      "execution_count": null,
      "metadata": {
        "id": "5Dti-zrHDVG8"
      },
      "outputs": [],
      "source": [
        "from collections import namedtuple, deque\n",
        "import numpy as np\n",
        "\n",
        "from tqdm import tqdm\n",
        "import torch\n",
        "from torch.nn.utils import clip_grad_norm_\n",
        "import torch.nn as nn\n",
        "import torch.optim as optim\n",
        "from IPython.display import clear_output\n",
        "import matplotlib.pyplot as plt\n",
        "from copy import deepcopy\n",
        "import collections\n",
        "\n",
        "\n",
        "import random\n",
        "import wandb\n",
        "import copy"
      ]
    },
    {
      "cell_type": "code",
      "execution_count": null,
      "metadata": {
        "id": "uBf7PeJxDVG9"
      },
      "outputs": [],
      "source": [
        "import gymnasium as gym\n",
        "from gymnasium.wrappers import MaxAndSkipObservation, ResizeObservation, GrayscaleObservation, FrameStackObservation, ReshapeObservation\n",
        "from stable_baselines3.common.atari_wrappers import NoopResetEnv, MaxAndSkipEnv, FireResetEnv, EpisodicLifeEnv\n",
        "import ale_py\n",
        "import cv2\n",
        "from gymnasium.spaces import Box"
      ]
    },
    {
      "cell_type": "markdown",
      "metadata": {
        "id": "VT0AJBV4DVG9"
      },
      "source": [
        "### Enviroment preparation"
      ]
    },
    {
      "cell_type": "code",
      "execution_count": null,
      "metadata": {
        "id": "rT_16NzPDVG9"
      },
      "outputs": [],
      "source": [
        "# Name of the Enviroment to use\n",
        "ENV_NAME = \"ALE/Frogger-v5\""
      ]
    },
    {
      "cell_type": "code",
      "execution_count": null,
      "metadata": {
        "colab": {
          "base_uri": "https://localhost:8080/"
        },
        "id": "9UJtQbOZDVG9",
        "outputId": "0e678dbf-0f5f-43aa-a838-3d1fe1019a59"
      },
      "outputs": [
        {
          "name": "stdout",
          "output_type": "stream",
          "text": [
            "Standard Env.        : (210, 160)\n",
            "MaxAndSkipObservation: (210, 160)\n",
            "ResizeObservation    : (84, 84)\n",
            "FrameStackObservation: (4, 84, 84)\n",
            "ScaledFloatFrame     : (4, 84, 84)\n",
            "\n",
            "Action space is Discrete(5) \n",
            "Observation space is Box(0, 255, (4, 84, 84), uint8) \n"
          ]
        }
      ],
      "source": [
        "class ScaledFloatFrame(gym.ObservationWrapper):\n",
        "    \"\"\"\n",
        "    To scale the observation to 0-1\n",
        "    \"\"\"\n",
        "    def observation(self, obs):\n",
        "        return np.array(obs).astype(np.float32) / 255.0\n",
        "\n",
        "\n",
        "def make_env(env_name):\n",
        "    \"\"\"\n",
        "    Given the environment name, it returns the environment with all the wrappers applied.\n",
        "    \"\"\"\n",
        "    env = gym.make(env_name, obs_type=\"grayscale\", render_mode=\"rgb_array\")\n",
        "    print(\"Original Env.        : {}\".format(env.observation_space.shape))\n",
        "    env = MaxAndSkipObservation(env, skip=4)\n",
        "    print(\"MaxAndSkipObservation: {}\".format(env.observation_space.shape))\n",
        "    env = ResizeObservation(env, (84, 84))\n",
        "    print(\"ResizeObservation    : {}\".format(env.observation_space.shape))\n",
        "    env = FrameStackObservation(env, stack_size=4)\n",
        "    print(\"FrameStackObservation: {}\".format(env.observation_space.shape))\n",
        "    env = ScaledFloatFrame(env)\n",
        "    print(\"ScaledFloatFrame     : {}\".format(env.observation_space.shape))\n",
        "\n",
        "    return env\n",
        "\n",
        "\n",
        "env = make_env(ENV_NAME)\n",
        "print(\"\\nAction space is {} \".format(env.action_space))\n",
        "print(\"Observation space is {} \".format(env.observation_space))"
      ]
    },
    {
      "cell_type": "markdown",
      "metadata": {
        "id": "XlTAr0lNDVG9"
      },
      "source": [
        "### Dueling DQN"
      ]
    },
    {
      "cell_type": "code",
      "execution_count": null,
      "metadata": {
        "id": "sP70SugjDVG9"
      },
      "outputs": [],
      "source": [
        "class DuelingDQN(nn.Module):\n",
        "    \"\"\"\n",
        "    Implentation of the Dueling DQN architecture\n",
        "    \"\"\"\n",
        "    def __init__(self, input_shape, output_shape):\n",
        "        \"\"\"\n",
        "        Args:\n",
        "            input_shape (tuple): Shape of the input image\n",
        "            output_shape (int): Number of actions\n",
        "        \"\"\" \n",
        "        super(DuelingDQN, self).__init__()\n",
        "\n",
        "        # Convolutional layers\n",
        "        self.net = nn.Sequential(\n",
        "            nn.Conv2d(input_shape[0], 32, kernel_size=5, stride=4),\n",
        "            nn.ReLU(),\n",
        "            nn.Conv2d(32, 64, kernel_size=3, stride=2),\n",
        "            nn.ReLU(),\n",
        "            nn.Conv2d(64, 64, kernel_size=3, stride=1),\n",
        "            nn.ReLU(),\n",
        "            nn.Conv2d(64, 64, kernel_size=3, stride=1),\n",
        "            nn.ReLU(),\n",
        "            nn.Flatten(),\n",
        "            nn.Linear(1600, 512),\n",
        "            nn.ReLU()\n",
        "        )\n",
        "\n",
        "        # Value and Advantage layers\n",
        "        self.value_prediction = nn.Linear(512, 1)\n",
        "        self.advantage_prediction = nn.Linear(512, output_shape)\n",
        "\n",
        "\n",
        "    def forward(self, x):\n",
        "        # Generating the embedding\n",
        "        embedding = self.net(x)\n",
        "        # Value and Advantage prediction\n",
        "        value = self.value_prediction(embedding)\n",
        "        advantage = self.advantage_prediction(embedding)\n",
        "        # Combining the value and advantage to get the Q-values\n",
        "        q_values = value + advantage - advantage.mean(dim=-1).unsqueeze(-1)\n",
        "        return q_values"
      ]
    },
    {
      "cell_type": "markdown",
      "metadata": {},
      "source": [
        "### Double DQN Implementaion"
      ]
    },
    {
      "cell_type": "code",
      "execution_count": null,
      "metadata": {
        "id": "Vo1FgQVDDVG9"
      },
      "outputs": [],
      "source": [
        "def compute_loss(model, target_model, states, actions, rewards, dones, next_states, gamma=0.99, criterion=nn.MSELoss(), device=\"cpu\"):\n",
        "    \"\"\"\n",
        "    Compute the loss for the DQN model using the double DQN loss function\n",
        "    Args:\n",
        "        model (nn.Module): DQN model\n",
        "        target_model (nn.Module): Target DQN model\n",
        "        states (torch.Tensor): States tensor\n",
        "        actions (torch.Tensor): Actions tensor\n",
        "        rewards (torch.Tensor): Rewards tensor\n",
        "        dones (torch.Tensor): Dones tensor\n",
        "        next_states (torch.Tensor): Next states tensor\n",
        "        gamma (float): Discount factor\n",
        "        criterion (torch.nn): Loss function\n",
        "        device (str): Device to use\n",
        "    \"\"\"\n",
        "    # Get the qvals of the DQN network\n",
        "    qvals = model(states).gather(1, actions.unsqueeze(-1)).squeeze(-1)\n",
        "\n",
        "    # Get the best action for the next state given the DQN network\n",
        "    actions_next = torch.argmax(model(next_states), dim=1)\n",
        "    # Get the qvals of the target network\n",
        "    with torch.no_grad():\n",
        "        qvals_next = target_model(next_states)\n",
        "\n",
        "    # Get the qvals of the target network for the best action considering the dqn network\n",
        "    qvals_next = torch.tensor(np.array([qvals_next[i][actions_next[i]].cpu() for i in range(len(actions_next))])).to(device)\n",
        "\n",
        "    qvals_next[dones] = 0\n",
        "\n",
        "    # Calculate the Bellman equation\n",
        "    expected_qvals = rewards + gamma * qvals_next\n",
        "\n",
        "    # Calculate the loss\n",
        "    return criterion(qvals, expected_qvals)"
      ]
    },
    {
      "cell_type": "markdown",
      "metadata": {},
      "source": [
        "### PrioritizedExperienceReplay"
      ]
    },
    {
      "cell_type": "code",
      "execution_count": null,
      "metadata": {
        "id": "tqlWztE9DVG-"
      },
      "outputs": [],
      "source": [
        "def compute_td_error(model, target_model, states, actions, rewards, dones, next_states, gamma=0.99, device=\"cpu\"):\n",
        "    \"\"\"\n",
        "    Compute the TD-error for the DQN model.\n",
        "    Args:\n",
        "        model (nn.Module): DQN model\n",
        "        target_model (nn.Module): Target DQN model\n",
        "        states (torch.Tensor): States tensor\n",
        "        actions (torch.Tensor): Actions tensor\n",
        "        rewards (torch.Tensor): Rewards tensor\n",
        "        dones (torch.Tensor): Dones tensor\n",
        "        next_states (torch.Tensor): Next states tensor\n",
        "        gamma (float): Discount factor\n",
        "        device (str): Device to use\n",
        "    \"\"\"\n",
        "    # Comberting to tensors\n",
        "    states = torch.tensor(states).to(device)\n",
        "    actions = torch.tensor(actions).to(device)\n",
        "    rewards = torch.tensor(rewards).to(device)\n",
        "    dones = torch.tensor(dones).to(device)\n",
        "    next_states = torch.tensor(next_states).to(device)\n",
        "\n",
        "\n",
        "    # Disable gradients to compute the td-errors\n",
        "    with torch.no_grad():\n",
        "        # Predicted Q-values\n",
        "        Q_values = model(states.unsqueeze(0)).gather(1, actions.unsqueeze(0).unsqueeze(-1)).squeeze(-1)\n",
        "\n",
        "        # Predicted Q-values for the next states, using the target network\n",
        "        next_state_values = target_model(next_states.unsqueeze(0)).max(1)[0]\n",
        "        next_state_values[dones] = 0.0\n",
        "        next_state_values = next_state_values.detach()\n",
        "\n",
        "        # Expected Q-values\n",
        "        expected_Q_values = next_state_values * gamma + rewards\n",
        "\n",
        "    # Calculate the TD-errors\n",
        "    return (Q_values - expected_Q_values).abs().detach().item()"
      ]
    },
    {
      "cell_type": "code",
      "execution_count": null,
      "metadata": {
        "id": "80IE9lXgDVG-"
      },
      "outputs": [],
      "source": [
        "# Tuple to store an experience\n",
        "Experience = collections.namedtuple('Experience', field_names=['state', 'action', 'reward', 'done', 'new_state'])\n",
        "\n",
        "\n",
        "class PrioritizedExperienceReplay:\n",
        "    \"\"\"\n",
        "    Implementation of the Prioritized Experience Replay.\n",
        "    \"\"\"\n",
        "    def __init__(self, capacity):\n",
        "        # Buffer to store the experiences and priorities\n",
        "        self.buffer = collections.deque(maxlen=capacity)\n",
        "        self.priorities = collections.deque(maxlen=capacity)\n",
        "\n",
        "    def __len__(self):\n",
        "        return len(self.buffer)\n",
        "\n",
        "    def append(self, experience, model, target_model, device=\"cpu\"):\n",
        "        \"\"\"\n",
        "        Function to append the experience to the buffer, and calculate the TD-error.\n",
        "        Args:\n",
        "            experience (tuple): Experience tuple\n",
        "            model (nn.Module): DQN model\n",
        "            target_model (nn.Module): Target DQN model\n",
        "            device (str): Device to use\n",
        "        \"\"\"\n",
        "        # Compute the TD-error  \n",
        "        td_error = compute_td_error(model, target_model, experience.state, experience.action, experience.reward, experience.done, experience.new_state, device=device)\n",
        "        # Append the experience and priority\n",
        "        self.priorities.append(td_error)\n",
        "        self.buffer.append(experience)\n",
        "\n",
        "    def sample(self, BATCH_SIZE, alpha=0.6, beta=0.4, epsilon=0.01):\n",
        "        \"\"\"\n",
        "        Function to sample the experiences from the buffer, based on the priorities.\n",
        "        Args:\n",
        "            BATCH_SIZE (int): Batch size\n",
        "            alpha (float): Alpha value for the priorities\n",
        "            beta (float): Beta value for the importance sampling\n",
        "            epsilon (float): Epsilon value to avoid zero probabilities\n",
        "        \"\"\"\n",
        "        # Calculate the probabilities\n",
        "        priorities = np.array(self.priorities)\n",
        "        priorities = priorities + epsilon\n",
        "        probabilities = priorities ** alpha\n",
        "        probabilities = probabilities / probabilities.sum()\n",
        "        \n",
        "        # Sample the experiences using the probabilities\n",
        "        indices = np.random.choice(len(self.buffer), BATCH_SIZE, p=probabilities)\n",
        "        # Computing the weights for the importance sampling in the loss\n",
        "        weights = (1/len(self.buffer) * 1/probabilities[indices]) ** beta\n",
        "\n",
        "        # Obtaing the batch of experiences\n",
        "        states, actions, rewards, dones, next_states = zip(*[self.buffer[idx] for idx in indices])\n",
        "\n",
        "        # Converting to tensors\n",
        "        states = torch.from_numpy(np.array(states, dtype=np.float32))\n",
        "        actions = torch.from_numpy(np.array(actions, dtype=np.int64))\n",
        "        rewards = torch.from_numpy(np.array(rewards, dtype=np.float32))\n",
        "        dones = torch.from_numpy(np.array(dones, dtype=bool))\n",
        "        next_states = torch.from_numpy(np.array(next_states, dtype=np.float32))\n",
        "        weights = torch.from_numpy(np.array(weights, dtype=np.float32))\n",
        "\n",
        "        return states, actions, rewards, dones, next_states, weights"
      ]
    },
    {
      "cell_type": "code",
      "execution_count": null,
      "metadata": {
        "id": "s8SQUYj4DVG9"
      },
      "outputs": [],
      "source": [
        "class Agent:\n",
        "    \"\"\"\n",
        "    Agent class to interact with the environment\n",
        "    \"\"\"\n",
        "    def __init__(self, env, exp_replay_buffer):\n",
        "        \"\"\"\n",
        "        Args:\n",
        "            env (gym.Env): Environment\n",
        "            exp_replay_buffer (PrioritizedExperienceReplay): Experience Replay Buffer  \n",
        "        \"\"\"\n",
        "        # Storing the environment and the experience replay buffer\n",
        "        self.env = env\n",
        "        self.exp_replay_buffer = exp_replay_buffer\n",
        "\n",
        "        # Reset the environment and the total reward\n",
        "        self._reset()\n",
        "\n",
        "    def _reset(self):\n",
        "        self.current_state = self.env.reset()[0]\n",
        "        self.total_reward = 0.0\n",
        "\n",
        "    def step(self, net, target_net, epsilon=0.0, device=\"cpu\"):\n",
        "        \"\"\"\n",
        "        Computes the action to take based on the epsilon-greedy policy from net.\n",
        "        Args:\n",
        "            net (nn.Module): DQN model\n",
        "            target_net (nn.Module): Target DQN model\n",
        "            epsilon (float): Epsilon value\n",
        "            device (str): Device to use\n",
        "        \"\"\"\n",
        "        # Epsilon-greedy policy \n",
        "        done_reward = None\n",
        "        if np.random.random() < epsilon:\n",
        "            action = env.action_space.sample()\n",
        "        else:\n",
        "            state_ = np.array([self.current_state])\n",
        "            state = torch.tensor(state_).to(device)\n",
        "            q_vals = net(state)\n",
        "            _, act_ = torch.max(q_vals, dim=1)\n",
        "            action = int(act_.item())\n",
        "\n",
        "        new_state, reward, terminated, truncated, _ = self.env.step(action)\n",
        "        is_done = terminated or truncated\n",
        "        self.total_reward += reward\n",
        "\n",
        "        exp = Experience(self.current_state, action, reward, is_done, new_state)\n",
        "        self.exp_replay_buffer.append(exp, net, target_net, device)\n",
        "        self.current_state = new_state\n",
        "\n",
        "        if is_done:\n",
        "            done_reward = self.total_reward\n",
        "            self._reset()\n",
        "\n",
        "        return done_reward"
      ]
    },
    {
      "cell_type": "markdown",
      "metadata": {
        "id": "PyGx30WXDVG-"
      },
      "source": [
        "#### Hyperparameters"
      ]
    },
    {
      "cell_type": "code",
      "execution_count": null,
      "metadata": {
        "id": "qDdEmUJIDVG-"
      },
      "outputs": [],
      "source": [
        "# Optimized parameters\n",
        "GAMMA = 0.90\n",
        "LEARNING_RATE = 0.0001\n",
        "\n",
        "# Fixed parameters over the different experiments\n",
        "BATCH_SIZE = 64\n",
        "MEAN_REWARD_BOUND = 390.0\n",
        "NUMBER_OF_REWARDS_TO_AVERAGE = 10\n",
        "\n",
        "EXPERIENCE_REPLAY_SIZE = 10000\n",
        "SYNC_TARGET_NETWORK = 1000\n",
        "MAX_FRAMES = 1500000\n",
        "\n",
        "# Found after Experimentation\n",
        "EPS_START = 1.0\n",
        "EPS_DECAY = 0.999987\n",
        "EPS_MIN = 0.03"
      ]
    },
    {
      "cell_type": "code",
      "execution_count": null,
      "metadata": {
        "colab": {
          "base_uri": "https://localhost:8080/"
        },
        "id": "e9MjsNGvDVG-",
        "outputId": "742a42c6-c9f6-4b25-86cf-e32f432866ee"
      },
      "outputs": [
        {
          "name": "stderr",
          "output_type": "stream",
          "text": [
            "\u001b[34m\u001b[1mwandb\u001b[0m: \u001b[33mWARNING\u001b[0m Calling wandb.login() after wandb.init() has no effect.\n"
          ]
        },
        {
          "data": {
            "text/plain": [
              "True"
            ]
          },
          "execution_count": 18,
          "metadata": {},
          "output_type": "execute_result"
        }
      ],
      "source": [
        "device = torch.device(\"cuda\" if torch.cuda.is_available() else \"cpu\")\n",
        "wandb.login()"
      ]
    },
    {
      "cell_type": "code",
      "execution_count": null,
      "metadata": {
        "colab": {
          "base_uri": "https://localhost:8080/",
          "height": 370,
          "referenced_widgets": [
            "c47cb61ca8a64fd8912519f3a939d4a9",
            "8ba81997b7eb49699013fddac0ffa13e",
            "12125900553f4f9aa876c9fecc932e1c",
            "4f6271c6a3cf42639381902468d0e73a",
            "ad941d0ab19f4f049256d111e40e1be0",
            "0573f83e8cfb4052891dfd5d5fef70f6",
            "50a5ee1c9d764b4dbcfc7cc98a00fd1e",
            "b45d0ecacdce4b9e9c6e077d71abe2f5"
          ]
        },
        "id": "BjCkdIp1DVG-",
        "outputId": "cb566cb6-0aae-4ac6-a045-eb9398958aa1"
      },
      "outputs": [
        {
          "data": {
            "text/html": [
              "Finishing last run (ID:cu9g5inj) before initializing another..."
            ],
            "text/plain": [
              "<IPython.core.display.HTML object>"
            ]
          },
          "metadata": {},
          "output_type": "display_data"
        },
        {
          "data": {
            "text/html": [
              "Waiting for W&B process to finish... <strong style=\"color:green\">(success).</strong>"
            ],
            "text/plain": [
              "<IPython.core.display.HTML object>"
            ]
          },
          "metadata": {},
          "output_type": "display_data"
        },
        {
          "data": {
            "text/html": [
              "<style>\n",
              "    table.wandb td:nth-child(1) { padding: 0 10px; text-align: left ; width: auto;} td:nth-child(2) {text-align: left ; width: 100%}\n",
              "    .wandb-row { display: flex; flex-direction: row; flex-wrap: wrap; justify-content: flex-start; width: 100% }\n",
              "    .wandb-col { display: flex; flex-direction: column; flex-basis: 100%; flex: 1; padding: 10px; }\n",
              "    </style>\n",
              "<div class=\"wandb-row\"><div class=\"wandb-col\"><h3>Run history:</h3><br/><table class=\"wandb\"><tr><td>epsilon</td><td>█▇▆▅▄▄▃▂▁</td></tr><tr><td>reward</td><td>▃▃▆▃▆▃▃▁█</td></tr><tr><td>reward_100</td><td>▁▁▇▅█▇▆▃▇</td></tr></table><br/></div><div class=\"wandb-col\"><h3>Run summary:</h3><br/><table class=\"wandb\"><tr><td>epsilon</td><td>0.98602</td></tr><tr><td>reward</td><td>9.0</td></tr><tr><td>reward_100</td><td>7.33333</td></tr></table><br/></div></div>"
            ],
            "text/plain": [
              "<IPython.core.display.HTML object>"
            ]
          },
          "metadata": {},
          "output_type": "display_data"
        },
        {
          "data": {
            "text/html": [
              " View run <strong style=\"color:#cdcd00\">Gamma_90_lr_0001_v2</strong> at: <a href='https://wandb.ai/joanlafuente/Frogger/runs/cu9g5inj' target=\"_blank\">https://wandb.ai/joanlafuente/Frogger/runs/cu9g5inj</a><br/>Synced 5 W&B file(s), 0 media file(s), 0 artifact file(s) and 0 other file(s)"
            ],
            "text/plain": [
              "<IPython.core.display.HTML object>"
            ]
          },
          "metadata": {},
          "output_type": "display_data"
        },
        {
          "data": {
            "text/html": [
              "Find logs at: <code>.\\wandb\\run-20241212_211037-cu9g5inj\\logs</code>"
            ],
            "text/plain": [
              "<IPython.core.display.HTML object>"
            ]
          },
          "metadata": {},
          "output_type": "display_data"
        },
        {
          "data": {
            "text/html": [
              "Successfully finished last run (ID:cu9g5inj). Initializing new run:<br/>"
            ],
            "text/plain": [
              "<IPython.core.display.HTML object>"
            ]
          },
          "metadata": {},
          "output_type": "display_data"
        },
        {
          "data": {
            "text/html": [
              "wandb version 0.19.0 is available!  To upgrade, please run:\n",
              " $ pip install wandb --upgrade"
            ],
            "text/plain": [
              "<IPython.core.display.HTML object>"
            ]
          },
          "metadata": {},
          "output_type": "display_data"
        },
        {
          "data": {
            "text/html": [
              "Tracking run with wandb version 0.15.3"
            ],
            "text/plain": [
              "<IPython.core.display.HTML object>"
            ]
          },
          "metadata": {},
          "output_type": "display_data"
        },
        {
          "data": {
            "text/html": [
              "Run data is saved locally in <code>c:\\Users\\Joan\\Downloads\\wandb\\run-20241212_211051-rvkn5nji</code>"
            ],
            "text/plain": [
              "<IPython.core.display.HTML object>"
            ]
          },
          "metadata": {},
          "output_type": "display_data"
        },
        {
          "data": {
            "text/html": [
              "Syncing run <strong><a href='https://wandb.ai/joanlafuente/Frogger/runs/rvkn5nji' target=\"_blank\">Gamma_90_lr_0001_v2</a></strong> to <a href='https://wandb.ai/joanlafuente/Frogger' target=\"_blank\">Weights & Biases</a> (<a href='https://wandb.me/run' target=\"_blank\">docs</a>)<br/>"
            ],
            "text/plain": [
              "<IPython.core.display.HTML object>"
            ]
          },
          "metadata": {},
          "output_type": "display_data"
        },
        {
          "data": {
            "text/html": [
              " View project at <a href='https://wandb.ai/joanlafuente/Frogger' target=\"_blank\">https://wandb.ai/joanlafuente/Frogger</a>"
            ],
            "text/plain": [
              "<IPython.core.display.HTML object>"
            ]
          },
          "metadata": {},
          "output_type": "display_data"
        },
        {
          "data": {
            "text/html": [
              " View run at <a href='https://wandb.ai/joanlafuente/Frogger/runs/rvkn5nji' target=\"_blank\">https://wandb.ai/joanlafuente/Frogger/runs/rvkn5nji</a>"
            ],
            "text/plain": [
              "<IPython.core.display.HTML object>"
            ]
          },
          "metadata": {},
          "output_type": "display_data"
        }
      ],
      "source": [
        "wandb.init(project=\"Frogger\", name=\"Gamma_90_lr_0001_v2\")\n",
        "wandb.config.update({\"gamma\": GAMMA, \"batch_size\": BATCH_SIZE, \"learning_rate\": LEARNING_RATE, \"experience_replay_size\": EXPERIENCE_REPLAY_SIZE, \"sync_target_network\": SYNC_TARGET_NETWORK, \"eps_start\": EPS_START, \"eps_decay\": EPS_DECAY, \"eps_min\": EPS_MIN})"
      ]
    },
    {
      "cell_type": "code",
      "execution_count": null,
      "metadata": {
        "colab": {
          "base_uri": "https://localhost:8080/"
        },
        "id": "R9VYQm8CDVG-",
        "outputId": "a9443991-e8cc-47a5-f894-3432f1760c61"
      },
      "outputs": [],
      "source": [
        "env = make_env(ENV_NAME)\n",
        "\n",
        "# Initialize the networks\n",
        "net = DuelingDQN(env.observation_space.shape, env.action_space.n).to(device)\n",
        "target_net = DuelingDQN(env.observation_space.shape, env.action_space.n).to(device)\n",
        "\n",
        "# Initialize the agent and the experience replay buffer\n",
        "buffer = PrioritizedExperienceReplay(EXPERIENCE_REPLAY_SIZE)\n",
        "agent = Agent(env, buffer)\n",
        "epsilon = EPS_START\n",
        "\n",
        "# Initialize the optimizer and the criterion\n",
        "optimizer = optim.Adam(net.parameters(), lr=LEARNING_RATE)\n",
        "criterion = nn.MSELoss(reduction=\"none\")\n",
        "\n",
        "# Initialize the total rewards\n",
        "total_rewards = []\n",
        "frame_number = 0\n",
        "\n",
        "tbar = tqdm()\n",
        "while True:\n",
        "    frame_number += 1\n",
        "    # Update the epsilon\n",
        "    epsilon = max(epsilon * EPS_DECAY, EPS_MIN)\n",
        "\n",
        "    # Take a step in the environment\n",
        "    reward = agent.step(net, target_net, epsilon, device=device)\n",
        "\n",
        "    # If the game has finished\n",
        "    if reward is not None:\n",
        "        # Append the total reward\n",
        "        total_rewards.append(reward)\n",
        "\n",
        "        # Update the progress bar and log the metrics\n",
        "        mean_reward = np.mean(total_rewards[-NUMBER_OF_REWARDS_TO_AVERAGE:])\n",
        "        tbar.set_description(f\"Frame:{frame_number} | Total games:{len(total_rewards)} | Mean reward: {mean_reward:.3f}  (epsilon used: {epsilon:.2f})\")\n",
        "        wandb.log({\"epsilon\": epsilon, \"reward_100\": mean_reward, \"reward\": reward, \"episode\": len(total_rewards)}, step=frame_number)\n",
        "\n",
        "        # If the environment is solved finish the training\n",
        "        if mean_reward > MEAN_REWARD_BOUND:\n",
        "            torch.save(net.state_dict(), f\"model_gamma_90_lr_0001_v2.pth\")\n",
        "            print(f\"SOLVED in {frame_number} frames and {len(total_rewards)} games\")\n",
        "            break\n",
        "\n",
        "    # If the buffer is not full we do not train\n",
        "    if len(buffer) < EXPERIENCE_REPLAY_SIZE:\n",
        "        continue\n",
        "\n",
        "    # Save the model every 5000 frames\n",
        "    if frame_number % 5000 == 0:\n",
        "        torch.save(net.state_dict(), f\"model_gamma_90_lr_0001_v2.pth\")\n",
        "\n",
        "    # If the number of frames is greater than the maximum number of frames, we finish the training\n",
        "    if frame_number > MAX_FRAMES:\n",
        "        torch.save(net.state_dict(), f\"model_gamma_90_lr_0001_v2.pth\")\n",
        "        break\n",
        "\n",
        "\n",
        "    # Sample the experiences from the buffer\n",
        "    states, actions, rewards, dones, next_states, weights = buffer.sample(BATCH_SIZE)\n",
        "    states, actions, rewards, dones, next_states, weights = states.to(device), actions.to(device), rewards.to(device), dones.to(device), next_states.to(device), weights.to(device)\n",
        "\n",
        "    # Compute the loss and optimize the network\n",
        "    loss = compute_loss(net, target_net, states, actions, rewards, dones, next_states, gamma=GAMMA, criterion=criterion, device=device)\n",
        "    loss = (loss * weights).mean()\n",
        "    wandb.log({\"loss\": loss.item()}, step=frame_number)\n",
        "    optimizer.zero_grad()\n",
        "    loss.backward()\n",
        "    optimizer.step()\n",
        "\n",
        "    # Update the target network every SYNC_TARGET_NETWORK frames\n",
        "    if frame_number % SYNC_TARGET_NETWORK == 0:\n",
        "        target_net.load_state_dict(net.state_dict())"
      ]
    },
    {
      "cell_type": "code",
      "execution_count": null,
      "metadata": {},
      "outputs": [],
      "source": [
        "wandb.finish()"
      ]
    }
  ],
  "metadata": {
    "accelerator": "GPU",
    "colab": {
      "collapsed_sections": [
        "VT0AJBV4DVG9",
        "XlTAr0lNDVG9"
      ],
      "gpuType": "T4",
      "provenance": []
    },
    "kernelspec": {
      "display_name": "DeepLearning",
      "language": "python",
      "name": "python3"
    },
    "language_info": {
      "codemirror_mode": {
        "name": "ipython",
        "version": 3
      },
      "file_extension": ".py",
      "mimetype": "text/x-python",
      "name": "python",
      "nbconvert_exporter": "python",
      "pygments_lexer": "ipython3",
      "version": "3.9.16"
    },
    "widgets": {
      "application/vnd.jupyter.widget-state+json": {
        "0573f83e8cfb4052891dfd5d5fef70f6": {
          "model_module": "@jupyter-widgets/controls",
          "model_module_version": "1.5.0",
          "model_name": "DescriptionStyleModel",
          "state": {
            "_model_module": "@jupyter-widgets/controls",
            "_model_module_version": "1.5.0",
            "_model_name": "DescriptionStyleModel",
            "_view_count": null,
            "_view_module": "@jupyter-widgets/base",
            "_view_module_version": "1.2.0",
            "_view_name": "StyleView",
            "description_width": ""
          }
        },
        "12125900553f4f9aa876c9fecc932e1c": {
          "model_module": "@jupyter-widgets/controls",
          "model_module_version": "1.5.0",
          "model_name": "FloatProgressModel",
          "state": {
            "_dom_classes": [],
            "_model_module": "@jupyter-widgets/controls",
            "_model_module_version": "1.5.0",
            "_model_name": "FloatProgressModel",
            "_view_count": null,
            "_view_module": "@jupyter-widgets/controls",
            "_view_module_version": "1.5.0",
            "_view_name": "ProgressView",
            "bar_style": "",
            "description": "",
            "description_tooltip": null,
            "layout": "IPY_MODEL_50a5ee1c9d764b4dbcfc7cc98a00fd1e",
            "max": 1,
            "min": 0,
            "orientation": "horizontal",
            "style": "IPY_MODEL_b45d0ecacdce4b9e9c6e077d71abe2f5",
            "value": 1
          }
        },
        "4f6271c6a3cf42639381902468d0e73a": {
          "model_module": "@jupyter-widgets/base",
          "model_module_version": "1.2.0",
          "model_name": "LayoutModel",
          "state": {
            "_model_module": "@jupyter-widgets/base",
            "_model_module_version": "1.2.0",
            "_model_name": "LayoutModel",
            "_view_count": null,
            "_view_module": "@jupyter-widgets/base",
            "_view_module_version": "1.2.0",
            "_view_name": "LayoutView",
            "align_content": null,
            "align_items": null,
            "align_self": null,
            "border": null,
            "bottom": null,
            "display": null,
            "flex": null,
            "flex_flow": null,
            "grid_area": null,
            "grid_auto_columns": null,
            "grid_auto_flow": null,
            "grid_auto_rows": null,
            "grid_column": null,
            "grid_gap": null,
            "grid_row": null,
            "grid_template_areas": null,
            "grid_template_columns": null,
            "grid_template_rows": null,
            "height": null,
            "justify_content": null,
            "justify_items": null,
            "left": null,
            "margin": null,
            "max_height": null,
            "max_width": null,
            "min_height": null,
            "min_width": null,
            "object_fit": null,
            "object_position": null,
            "order": null,
            "overflow": null,
            "overflow_x": null,
            "overflow_y": null,
            "padding": null,
            "right": null,
            "top": null,
            "visibility": null,
            "width": null
          }
        },
        "50a5ee1c9d764b4dbcfc7cc98a00fd1e": {
          "model_module": "@jupyter-widgets/base",
          "model_module_version": "1.2.0",
          "model_name": "LayoutModel",
          "state": {
            "_model_module": "@jupyter-widgets/base",
            "_model_module_version": "1.2.0",
            "_model_name": "LayoutModel",
            "_view_count": null,
            "_view_module": "@jupyter-widgets/base",
            "_view_module_version": "1.2.0",
            "_view_name": "LayoutView",
            "align_content": null,
            "align_items": null,
            "align_self": null,
            "border": null,
            "bottom": null,
            "display": null,
            "flex": null,
            "flex_flow": null,
            "grid_area": null,
            "grid_auto_columns": null,
            "grid_auto_flow": null,
            "grid_auto_rows": null,
            "grid_column": null,
            "grid_gap": null,
            "grid_row": null,
            "grid_template_areas": null,
            "grid_template_columns": null,
            "grid_template_rows": null,
            "height": null,
            "justify_content": null,
            "justify_items": null,
            "left": null,
            "margin": null,
            "max_height": null,
            "max_width": null,
            "min_height": null,
            "min_width": null,
            "object_fit": null,
            "object_position": null,
            "order": null,
            "overflow": null,
            "overflow_x": null,
            "overflow_y": null,
            "padding": null,
            "right": null,
            "top": null,
            "visibility": null,
            "width": null
          }
        },
        "8ba81997b7eb49699013fddac0ffa13e": {
          "model_module": "@jupyter-widgets/controls",
          "model_module_version": "1.5.0",
          "model_name": "LabelModel",
          "state": {
            "_dom_classes": [],
            "_model_module": "@jupyter-widgets/controls",
            "_model_module_version": "1.5.0",
            "_model_name": "LabelModel",
            "_view_count": null,
            "_view_module": "@jupyter-widgets/controls",
            "_view_module_version": "1.5.0",
            "_view_name": "LabelView",
            "description": "",
            "description_tooltip": null,
            "layout": "IPY_MODEL_ad941d0ab19f4f049256d111e40e1be0",
            "placeholder": "​",
            "style": "IPY_MODEL_0573f83e8cfb4052891dfd5d5fef70f6",
            "value": "0.343 MB of 0.343 MB uploaded\r"
          }
        },
        "ad941d0ab19f4f049256d111e40e1be0": {
          "model_module": "@jupyter-widgets/base",
          "model_module_version": "1.2.0",
          "model_name": "LayoutModel",
          "state": {
            "_model_module": "@jupyter-widgets/base",
            "_model_module_version": "1.2.0",
            "_model_name": "LayoutModel",
            "_view_count": null,
            "_view_module": "@jupyter-widgets/base",
            "_view_module_version": "1.2.0",
            "_view_name": "LayoutView",
            "align_content": null,
            "align_items": null,
            "align_self": null,
            "border": null,
            "bottom": null,
            "display": null,
            "flex": null,
            "flex_flow": null,
            "grid_area": null,
            "grid_auto_columns": null,
            "grid_auto_flow": null,
            "grid_auto_rows": null,
            "grid_column": null,
            "grid_gap": null,
            "grid_row": null,
            "grid_template_areas": null,
            "grid_template_columns": null,
            "grid_template_rows": null,
            "height": null,
            "justify_content": null,
            "justify_items": null,
            "left": null,
            "margin": null,
            "max_height": null,
            "max_width": null,
            "min_height": null,
            "min_width": null,
            "object_fit": null,
            "object_position": null,
            "order": null,
            "overflow": null,
            "overflow_x": null,
            "overflow_y": null,
            "padding": null,
            "right": null,
            "top": null,
            "visibility": null,
            "width": null
          }
        },
        "b45d0ecacdce4b9e9c6e077d71abe2f5": {
          "model_module": "@jupyter-widgets/controls",
          "model_module_version": "1.5.0",
          "model_name": "ProgressStyleModel",
          "state": {
            "_model_module": "@jupyter-widgets/controls",
            "_model_module_version": "1.5.0",
            "_model_name": "ProgressStyleModel",
            "_view_count": null,
            "_view_module": "@jupyter-widgets/base",
            "_view_module_version": "1.2.0",
            "_view_name": "StyleView",
            "bar_color": null,
            "description_width": ""
          }
        },
        "c47cb61ca8a64fd8912519f3a939d4a9": {
          "model_module": "@jupyter-widgets/controls",
          "model_module_version": "1.5.0",
          "model_name": "VBoxModel",
          "state": {
            "_dom_classes": [],
            "_model_module": "@jupyter-widgets/controls",
            "_model_module_version": "1.5.0",
            "_model_name": "VBoxModel",
            "_view_count": null,
            "_view_module": "@jupyter-widgets/controls",
            "_view_module_version": "1.5.0",
            "_view_name": "VBoxView",
            "box_style": "",
            "children": [
              "IPY_MODEL_8ba81997b7eb49699013fddac0ffa13e",
              "IPY_MODEL_12125900553f4f9aa876c9fecc932e1c"
            ],
            "layout": "IPY_MODEL_4f6271c6a3cf42639381902468d0e73a"
          }
        }
      }
    }
  },
  "nbformat": 4,
  "nbformat_minor": 0
}
