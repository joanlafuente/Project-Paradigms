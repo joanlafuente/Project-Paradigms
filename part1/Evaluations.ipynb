{
  "cells": [
    {
      "cell_type": "code",
      "execution_count": null,
      "metadata": {
        "id": "5Dti-zrHDVG8"
      },
      "outputs": [],
      "source": [
        "from collections import namedtuple, deque\n",
        "import numpy as np\n",
        "\n",
        "from tqdm import tqdm\n",
        "import torch\n",
        "from torch.nn.utils import clip_grad_norm_\n",
        "import torch.nn as nn\n",
        "import torch.optim as optim\n",
        "from IPython.display import clear_output\n",
        "import matplotlib.pyplot as plt\n",
        "from copy import deepcopy\n",
        "import collections\n",
        "import imageio\n",
        "\n",
        "\n",
        "import random\n",
        "import wandb\n",
        "import copy"
      ]
    },
    {
      "cell_type": "code",
      "execution_count": null,
      "metadata": {
        "id": "uBf7PeJxDVG9"
      },
      "outputs": [],
      "source": [
        "import gymnasium as gym\n",
        "from gymnasium.wrappers import MaxAndSkipObservation, ResizeObservation, GrayscaleObservation, FrameStackObservation, ReshapeObservation\n",
        "from stable_baselines3.common.atari_wrappers import NoopResetEnv, MaxAndSkipEnv, FireResetEnv, EpisodicLifeEnv\n",
        "import ale_py\n",
        "import cv2\n",
        "from gymnasium.spaces import Box"
      ]
    },
    {
      "cell_type": "markdown",
      "metadata": {
        "id": "VT0AJBV4DVG9"
      },
      "source": [
        "### Enviroment preparation"
      ]
    },
    {
      "cell_type": "code",
      "execution_count": null,
      "metadata": {
        "id": "rT_16NzPDVG9"
      },
      "outputs": [],
      "source": [
        "# Name of the Enviroment to use\n",
        "ENV_NAME = \"ALE/Frogger-v5\""
      ]
    },
    {
      "cell_type": "code",
      "execution_count": null,
      "metadata": {
        "colab": {
          "base_uri": "https://localhost:8080/"
        },
        "id": "9UJtQbOZDVG9",
        "outputId": "0e678dbf-0f5f-43aa-a838-3d1fe1019a59"
      },
      "outputs": [
        {
          "name": "stdout",
          "output_type": "stream",
          "text": [
            "Standard Env.        : (210, 160)\n",
            "MaxAndSkipObservation: (210, 160)\n",
            "ResizeObservation    : (84, 84)\n",
            "FrameStackObservation: (4, 84, 84)\n",
            "ScaledFloatFrame     : (4, 84, 84)\n",
            "\n",
            "Action space is Discrete(5) \n",
            "Observation space is Box(0, 255, (4, 84, 84), uint8) \n"
          ]
        }
      ],
      "source": [
        "class ScaledFloatFrame(gym.ObservationWrapper):\n",
        "    \"\"\"\n",
        "    To scale the observation to 0-1\n",
        "    \"\"\"\n",
        "    def observation(self, obs):\n",
        "        return np.array(obs).astype(np.float32) / 255.0\n",
        "\n",
        "\n",
        "def make_env(env_name):\n",
        "    \"\"\"\n",
        "    Given the environment name, it returns the environment with all the wrappers applied.\n",
        "    \"\"\"\n",
        "    env = gym.make(env_name, obs_type=\"grayscale\", render_mode=\"rgb_array\")\n",
        "    print(\"Original Env.        : {}\".format(env.observation_space.shape))\n",
        "    env = MaxAndSkipObservation(env, skip=4)\n",
        "    print(\"MaxAndSkipObservation: {}\".format(env.observation_space.shape))\n",
        "    env = ResizeObservation(env, (84, 84))\n",
        "    print(\"ResizeObservation    : {}\".format(env.observation_space.shape))\n",
        "    env = FrameStackObservation(env, stack_size=4)\n",
        "    print(\"FrameStackObservation: {}\".format(env.observation_space.shape))\n",
        "    env = ScaledFloatFrame(env)\n",
        "    print(\"ScaledFloatFrame     : {}\".format(env.observation_space.shape))\n",
        "\n",
        "    return env\n",
        "\n",
        "\n",
        "env = make_env(ENV_NAME)\n",
        "print(\"\\nAction space is {} \".format(env.action_space))\n",
        "print(\"Observation space is {} \".format(env.observation_space))"
      ]
    },
    {
      "cell_type": "markdown",
      "metadata": {
        "id": "XlTAr0lNDVG9"
      },
      "source": [
        "### DQN with Some extensions"
      ]
    },
    {
      "cell_type": "code",
      "execution_count": null,
      "metadata": {
        "id": "sP70SugjDVG9"
      },
      "outputs": [],
      "source": [
        "class DuelingDQN(nn.Module):\n",
        "    \"\"\"\n",
        "    Implentation of the Dueling DQN architecture\n",
        "    \"\"\"\n",
        "    def __init__(self, input_shape, output_shape):\n",
        "        \"\"\"\n",
        "        Args:\n",
        "            input_shape (tuple): Shape of the input image\n",
        "            output_shape (int): Number of actions\n",
        "        \"\"\" \n",
        "        super(DuelingDQN, self).__init__()\n",
        "\n",
        "        # Convolutional layers\n",
        "        self.net = nn.Sequential(\n",
        "            nn.Conv2d(input_shape[0], 32, kernel_size=5, stride=4),\n",
        "            nn.ReLU(),\n",
        "            nn.Conv2d(32, 64, kernel_size=3, stride=2),\n",
        "            nn.ReLU(),\n",
        "            nn.Conv2d(64, 64, kernel_size=3, stride=1),\n",
        "            nn.ReLU(),\n",
        "            nn.Conv2d(64, 64, kernel_size=3, stride=1),\n",
        "            nn.ReLU(),\n",
        "            nn.Flatten(),\n",
        "            nn.Linear(1600, 512),\n",
        "            nn.ReLU()\n",
        "        )\n",
        "\n",
        "        # Value and Advantage layers\n",
        "        self.value_prediction = nn.Linear(512, 1)\n",
        "        self.advantage_prediction = nn.Linear(512, output_shape)\n",
        "\n",
        "\n",
        "    def forward(self, x):\n",
        "        # Generating the embedding\n",
        "        embedding = self.net(x)\n",
        "        # Value and Advantage prediction\n",
        "        value = self.value_prediction(embedding)\n",
        "        advantage = self.advantage_prediction(embedding)\n",
        "        # Combining the value and advantage to get the Q-values\n",
        "        q_values = value + advantage - advantage.mean(dim=-1).unsqueeze(-1)\n",
        "        return q_values"
      ]
    },
    {
      "cell_type": "markdown",
      "metadata": {},
      "source": [
        "### Rainbow DQN"
      ]
    },
    {
      "cell_type": "code",
      "execution_count": null,
      "metadata": {
        "id": "UwRtCFlhpeoH"
      },
      "outputs": [],
      "source": [
        "from torch.nn import functional as F\n",
        "import math\n",
        "\n",
        "class NoisyLayer(nn.Module):\n",
        "    def __init__(self, in_features, out_features):\n",
        "        super(NoisyLayer, self).__init__()\n",
        "        self.in_features = in_features\n",
        "        self.out_features = out_features\n",
        "\n",
        "        # Initialize mu (mean) parameters with uniform distribution\n",
        "        mu_range = 1 / math.sqrt(in_features)\n",
        "        self.mu_weight = nn.Parameter(torch.empty(out_features, in_features).uniform_(-mu_range, mu_range))\n",
        "        self.mu_bias = nn.Parameter(torch.empty(out_features).uniform_(-mu_range, mu_range))\n",
        "\n",
        "        # Initialize sigma (standard deviation) parameters with a small constant value\n",
        "        sigma_init = 0.5 / math.sqrt(in_features)\n",
        "        self.sigma_weight = nn.Parameter(torch.full((out_features, in_features), sigma_init))\n",
        "        self.sigma_bias = nn.Parameter(torch.full((out_features,), sigma_init))\n",
        "\n",
        "        # Register buffers for noise\n",
        "        self.register_buffer(\"epsilon_weight\", torch.zeros(out_features, in_features))\n",
        "        self.register_buffer(\"epsilon_bias\", torch.zeros(out_features))\n",
        "\n",
        "    def forward(self, x, noise_enabled=True):  # Add noise_enabled argument\n",
        "        if noise_enabled:\n",
        "            # Generate factorized Gaussian noise\n",
        "            epsilon_in = torch.randn(self.in_features, device=x.device)\n",
        "            epsilon_out = torch.randn(self.out_features, device=x.device)\n",
        "\n",
        "            # Scale noise using the function described in the paper\n",
        "            epsilon_w = torch.sign(epsilon_in) * torch.sqrt(torch.abs(epsilon_in))\n",
        "            epsilon_b = torch.sign(epsilon_out) * torch.sqrt(torch.abs(epsilon_out))\n",
        "\n",
        "            self.epsilon_weight = epsilon_out.unsqueeze(1) * epsilon_w.unsqueeze(0)\n",
        "            self.epsilon_bias = epsilon_b\n",
        "\n",
        "            # Apply noise to weights and biases\n",
        "            weight = self.mu_weight + self.sigma_weight * self.epsilon_weight\n",
        "            bias = self.mu_bias + self.sigma_bias * self.epsilon_bias\n",
        "        else:\n",
        "            # Use only learned parameters without noise\n",
        "            weight = self.mu_weight\n",
        "            bias = self.mu_bias\n",
        "\n",
        "        return F.linear(x, weight, bias)\n",
        "\n",
        "class DQN(nn.Module):\n",
        "    def __init__(self, input_shape, output_shape):\n",
        "        super(DQN, self).__init__()\n",
        "\n",
        "        # -- Feature Extractor --\n",
        "        self.net = nn.Sequential(\n",
        "            nn.Conv2d(input_shape[0], 32, kernel_size=5, stride=4),\n",
        "            nn.ReLU(),\n",
        "            nn.Conv2d(32, 64, kernel_size=3, stride=2),\n",
        "            nn.ReLU(),\n",
        "            nn.Conv2d(64, 64, kernel_size=3, stride=1),\n",
        "            nn.ReLU(),\n",
        "            nn.Conv2d(64, 64, kernel_size=3, stride=1),\n",
        "            nn.ReLU(),\n",
        "            nn.Flatten(),\n",
        "            nn.Linear(1600, 512),\n",
        "            nn.ReLU()\n",
        "        )\n",
        "\n",
        "        # -- Duelling DQN extension --\n",
        "        self.value_prediction = NoisyLayer(512, 1)\n",
        "        self.advantage_prediction = NoisyLayer(512, output_shape)\n",
        "\n",
        "    def forward(self, x, noise_enabled=False):\n",
        "        embedding = self.net(x)  # Feature Extractor\n",
        "\n",
        "        value = self.value_prediction(embedding, noise_enabled=noise_enabled)  # Value\n",
        "        advantage = self.advantage_prediction(embedding, noise_enabled=noise_enabled)  # Advantage\n",
        "\n",
        "        q_values = value + advantage - advantage.mean(dim=-1).unsqueeze(-1)  # Get the Q values\n",
        "\n",
        "        return q_values"
      ]
    },
    {
      "cell_type": "markdown",
      "metadata": {},
      "source": [
        "### Evaluation and Gif generation"
      ]
    },
    {
      "cell_type": "code",
      "execution_count": null,
      "metadata": {
        "id": "9HgPc0TtpeoD",
        "outputId": "c7db1583-3847-4ac5-e632-6389bc6c2139"
      },
      "outputs": [],
      "source": [
        "def evaluate(env, net, device=\"cpu\", n_games=10):\n",
        "    rewards = []\n",
        "    for _ in tqdm(range(n_games)):\n",
        "        state = env.reset()[0]\n",
        "        total_reward = 0.0\n",
        "        while True:\n",
        "            state_v = torch.tensor(np.array([state])).to(device)\n",
        "            q_vals = net(state_v)\n",
        "            _, action = torch.max(q_vals, dim=1)\n",
        "            new_state, reward, terminated, truncated, _ = env.step(int(action.item()))\n",
        "            total_reward += reward\n",
        "            if terminated or truncated:\n",
        "                break\n",
        "            state = new_state\n",
        "        rewards.append(total_reward)\n",
        "    return np.mean(rewards), np.std(rewards)"
      ]
    },
    {
      "cell_type": "code",
      "execution_count": null,
      "metadata": {},
      "outputs": [],
      "source": [
        "def generate_gif(env, net, device=\"cpu\"):\n",
        "    state = env.reset()[0]\n",
        "    frames = [env.render()]\n",
        "    while True:\n",
        "        state_v = torch.tensor(np.array([state])).to(device)\n",
        "        q_vals = net(state_v)\n",
        "        _, action = torch.max(q_vals, dim=1)\n",
        "        new_state, _, terminated, truncated, _ = env.step(int(action.item()))\n",
        "        frames.append(env.render())\n",
        "        if terminated or truncated:\n",
        "            print(truncated)\n",
        "            break\n",
        "        state = new_state\n",
        "    return frames"
      ]
    },
    {
      "cell_type": "markdown",
      "metadata": {},
      "source": [
        "### DQN with Some Extensions Evaluation"
      ]
    },
    {
      "cell_type": "code",
      "execution_count": null,
      "metadata": {
        "id": "Wwqc-G-ApeoF",
        "outputId": "8bb1cd6f-bfad-4cde-dc0f-0e2526d8679a"
      },
      "outputs": [
        {
          "name": "stdout",
          "output_type": "stream",
          "text": [
            "Standard Env.        : (210, 160)\n",
            "MaxAndSkipObservation: (210, 160)\n",
            "ResizeObservation    : (84, 84)\n",
            "FrameStackObservation: (4, 84, 84)\n",
            "ScaledFloatFrame     : (4, 84, 84)\n"
          ]
        },
        {
          "name": "stderr",
          "output_type": "stream",
          "text": [
            "100%|██████████| 100/100 [01:11<00:00,  1.40it/s]"
          ]
        },
        {
          "name": "stdout",
          "output_type": "stream",
          "text": [
            "Mean reward: 265.44, Std reward: 128.07383183148693\n"
          ]
        },
        {
          "name": "stderr",
          "output_type": "stream",
          "text": [
            "\n"
          ]
        }
      ],
      "source": [
        "# Create the environment\n",
        "env = make_env(ENV_NAME)\n",
        "# Set the device\n",
        "device = torch.device(\"cuda\" if torch.cuda.is_available() else \"cpu\")\n",
        "\n",
        "# Load the model\n",
        "model = DuelingDQN(env.observation_space.shape, env.action_space.n).to(device)\n",
        "model.load_state_dict(torch.load(\"models/model_gamma_90_lr_0001_v2.pth\"))\n",
        "\n",
        "# Evaluate the model\n",
        "mean_reward, std_reward, rewards = evaluate(env, model, device=device, n_games=100)\n",
        "print(f\"Mean reward: {mean_reward}, Std reward: {std_reward}\")"
      ]
    },
    {
      "cell_type": "code",
      "execution_count": null,
      "metadata": {
        "id": "d1Yad7WUpeoG",
        "outputId": "3b3a2bd3-b647-4ae2-c39d-95080315726b"
      },
      "outputs": [
        {
          "data": {
            "image/png": "[encoded data removed]",
            "text/plain": [
              "<Figure size 640x480 with 1 Axes>"
            ]
          },
          "metadata": {},
          "output_type": "display_data"
        }
      ],
      "source": [
        "# Visualize the rewards obtained\n",
        "plt.scatter(range(len(rewards)), rewards, alpha=0.5, label=\"Rewards obtained\")\n",
        "plt.hlines(mean_reward, 0, len(rewards), color=\"green\", label=\"Mean reward\")\n",
        "plt.hlines(400, 0, len(rewards), color=\"red\", label=\"Treshold reward\")\n",
        "plt.xlabel(\"Game\")\n",
        "plt.ylabel(\"Reward\")\n",
        "plt.title(\"Rewards obtained by the agent (Simpler DQN)\")\n",
        "plt.show()"
      ]
    },
    {
      "cell_type": "code",
      "execution_count": null,
      "metadata": {},
      "outputs": [],
      "source": [
        "# Generate the GIF\n",
        "frames = generate_gif(env, model, device=device)\n",
        "\n",
        "imageio.mimsave(\"frogger.gif\", frames, duration=1/30)"
      ]
    },
    {
      "cell_type": "markdown",
      "metadata": {},
      "source": [
        "### Rainbow evaluation"
      ]
    },
    {
      "cell_type": "code",
      "execution_count": null,
      "metadata": {
        "id": "lc98DXG2peoI",
        "outputId": "30522e53-1d5b-4321-a7f3-3e0f19be555e"
      },
      "outputs": [
        {
          "name": "stderr",
          "output_type": "stream",
          "text": [
            "100%|██████████| 100/100 [00:37<00:00,  2.68it/s]\n"
          ]
        }
      ],
      "source": [
        "# Load the model\n",
        "rainbow = DQN(env.observation_space.shape, env.action_space.n).to(device)\n",
        "rainbow.load_state_dict(torch.load(r\"C:\\Users\\Joan\\Downloads\\Pong\\model_lr_00001_gamma_99_v2.pt\"))\n",
        "\n",
        "# Evaluate the model\n",
        "mean_reward, std_reward, rewards = evaluate(env, rainbow, device=device, n_games=100)"
      ]
    },
    {
      "cell_type": "code",
      "execution_count": null,
      "metadata": {
        "id": "JHEHCIgmpeoJ",
        "outputId": "8e000271-dfc3-4a3e-f4d0-084255ead6f2"
      },
      "outputs": [
        {
          "name": "stdout",
          "output_type": "stream",
          "text": [
            "Mean reward: 114.97, Std reward: 0.899499861033897\n"
          ]
        }
      ],
      "source": [
        "print(f\"Mean reward: {mean_reward}, Std reward: {std_reward}\")"
      ]
    },
    {
      "cell_type": "code",
      "execution_count": null,
      "metadata": {
        "id": "-wSgiJ44peoI",
        "outputId": "cdcecf3c-8f02-4782-b915-593ef78b8ce2"
      },
      "outputs": [
        {
          "data": {
            "image/png": "[encoded data removed]",
            "text/plain": [
              "<Figure size 640x480 with 1 Axes>"
            ]
          },
          "metadata": {},
          "output_type": "display_data"
        }
      ],
      "source": [
        "# Visualize the rewards obtained\n",
        "plt.scatter(range(len(rewards)), rewards, alpha=0.5, label=\"Rewards obtained\")\n",
        "plt.hlines(mean_reward, 0, len(rewards), color=\"green\", label=\"Mean reward\")\n",
        "plt.hlines(400, 0, len(rewards), color=\"red\", label=\"Treshold reward\")\n",
        "plt.xlabel(\"Game\")\n",
        "plt.ylabel(\"Reward\")\n",
        "plt.title(\"Rewards obtained by the agent (Rainbow DQN)\")\n",
        "plt.show()"
      ]
    },
    {
      "cell_type": "code",
      "execution_count": null,
      "metadata": {
        "id": "BPwOpTOrpeoK",
        "outputId": "82071e9e-7f41-4f44-f297-07b71093fa4e"
      },
      "outputs": [
        {
          "name": "stdout",
          "output_type": "stream",
          "text": [
            "False\n"
          ]
        }
      ],
      "source": [
        "# Generate the GIF\n",
        "frames = generate_gif(env, rainbow, device=device)\n",
        "\n",
        "imageio.mimsave(\"frogger.gif\", frames, duration=1/30)"
      ]
    }
  ],
  "metadata": {
    "accelerator": "GPU",
    "colab": {
      "collapsed_sections": [
        "VT0AJBV4DVG9",
        "XlTAr0lNDVG9"
      ],
      "gpuType": "T4",
      "provenance": []
    },
    "kernelspec": {
      "display_name": "DeepLearning",
      "language": "python",
      "name": "python3"
    },
    "language_info": {
      "codemirror_mode": {
        "name": "ipython",
        "version": 3
      },
      "file_extension": ".py",
      "mimetype": "text/x-python",
      "name": "python",
      "nbconvert_exporter": "python",
      "pygments_lexer": "ipython3",
      "version": "3.9.16"
    },
    "widgets": {
      "application/vnd.jupyter.widget-state+json": {
        "0573f83e8cfb4052891dfd5d5fef70f6": {
          "model_module": "@jupyter-widgets/controls",
          "model_module_version": "1.5.0",
          "model_name": "DescriptionStyleModel",
          "state": {
            "_model_module": "@jupyter-widgets/controls",
            "_model_module_version": "1.5.0",
            "_model_name": "DescriptionStyleModel",
            "_view_count": null,
            "_view_module": "@jupyter-widgets/base",
            "_view_module_version": "1.2.0",
            "_view_name": "StyleView",
            "description_width": ""
          }
        },
        "12125900553f4f9aa876c9fecc932e1c": {
          "model_module": "@jupyter-widgets/controls",
          "model_module_version": "1.5.0",
          "model_name": "FloatProgressModel",
          "state": {
            "_dom_classes": [],
            "_model_module": "@jupyter-widgets/controls",
            "_model_module_version": "1.5.0",
            "_model_name": "FloatProgressModel",
            "_view_count": null,
            "_view_module": "@jupyter-widgets/controls",
            "_view_module_version": "1.5.0",
            "_view_name": "ProgressView",
            "bar_style": "",
            "description": "",
            "description_tooltip": null,
            "layout": "IPY_MODEL_50a5ee1c9d764b4dbcfc7cc98a00fd1e",
            "max": 1,
            "min": 0,
            "orientation": "horizontal",
            "style": "IPY_MODEL_b45d0ecacdce4b9e9c6e077d71abe2f5",
            "value": 1
          }
        },
        "4f6271c6a3cf42639381902468d0e73a": {
          "model_module": "@jupyter-widgets/base",
          "model_module_version": "1.2.0",
          "model_name": "LayoutModel",
          "state": {
            "_model_module": "@jupyter-widgets/base",
            "_model_module_version": "1.2.0",
            "_model_name": "LayoutModel",
            "_view_count": null,
            "_view_module": "@jupyter-widgets/base",
            "_view_module_version": "1.2.0",
            "_view_name": "LayoutView",
            "align_content": null,
            "align_items": null,
            "align_self": null,
            "border": null,
            "bottom": null,
            "display": null,
            "flex": null,
            "flex_flow": null,
            "grid_area": null,
            "grid_auto_columns": null,
            "grid_auto_flow": null,
            "grid_auto_rows": null,
            "grid_column": null,
            "grid_gap": null,
            "grid_row": null,
            "grid_template_areas": null,
            "grid_template_columns": null,
            "grid_template_rows": null,
            "height": null,
            "justify_content": null,
            "justify_items": null,
            "left": null,
            "margin": null,
            "max_height": null,
            "max_width": null,
            "min_height": null,
            "min_width": null,
            "object_fit": null,
            "object_position": null,
            "order": null,
            "overflow": null,
            "overflow_x": null,
            "overflow_y": null,
            "padding": null,
            "right": null,
            "top": null,
            "visibility": null,
            "width": null
          }
        },
        "50a5ee1c9d764b4dbcfc7cc98a00fd1e": {
          "model_module": "@jupyter-widgets/base",
          "model_module_version": "1.2.0",
          "model_name": "LayoutModel",
          "state": {
            "_model_module": "@jupyter-widgets/base",
            "_model_module_version": "1.2.0",
            "_model_name": "LayoutModel",
            "_view_count": null,
            "_view_module": "@jupyter-widgets/base",
            "_view_module_version": "1.2.0",
            "_view_name": "LayoutView",
            "align_content": null,
            "align_items": null,
            "align_self": null,
            "border": null,
            "bottom": null,
            "display": null,
            "flex": null,
            "flex_flow": null,
            "grid_area": null,
            "grid_auto_columns": null,
            "grid_auto_flow": null,
            "grid_auto_rows": null,
            "grid_column": null,
            "grid_gap": null,
            "grid_row": null,
            "grid_template_areas": null,
            "grid_template_columns": null,
            "grid_template_rows": null,
            "height": null,
            "justify_content": null,
            "justify_items": null,
            "left": null,
            "margin": null,
            "max_height": null,
            "max_width": null,
            "min_height": null,
            "min_width": null,
            "object_fit": null,
            "object_position": null,
            "order": null,
            "overflow": null,
            "overflow_x": null,
            "overflow_y": null,
            "padding": null,
            "right": null,
            "top": null,
            "visibility": null,
            "width": null
          }
        },
        "8ba81997b7eb49699013fddac0ffa13e": {
          "model_module": "@jupyter-widgets/controls",
          "model_module_version": "1.5.0",
          "model_name": "LabelModel",
          "state": {
            "_dom_classes": [],
            "_model_module": "@jupyter-widgets/controls",
            "_model_module_version": "1.5.0",
            "_model_name": "LabelModel",
            "_view_count": null,
            "_view_module": "@jupyter-widgets/controls",
            "_view_module_version": "1.5.0",
            "_view_name": "LabelView",
            "description": "",
            "description_tooltip": null,
            "layout": "IPY_MODEL_ad941d0ab19f4f049256d111e40e1be0",
            "placeholder": "​",
            "style": "IPY_MODEL_0573f83e8cfb4052891dfd5d5fef70f6",
            "value": "0.343 MB of 0.343 MB uploaded\r"
          }
        },
        "ad941d0ab19f4f049256d111e40e1be0": {
          "model_module": "@jupyter-widgets/base",
          "model_module_version": "1.2.0",
          "model_name": "LayoutModel",
          "state": {
            "_model_module": "@jupyter-widgets/base",
            "_model_module_version": "1.2.0",
            "_model_name": "LayoutModel",
            "_view_count": null,
            "_view_module": "@jupyter-widgets/base",
            "_view_module_version": "1.2.0",
            "_view_name": "LayoutView",
            "align_content": null,
            "align_items": null,
            "align_self": null,
            "border": null,
            "bottom": null,
            "display": null,
            "flex": null,
            "flex_flow": null,
            "grid_area": null,
            "grid_auto_columns": null,
            "grid_auto_flow": null,
            "grid_auto_rows": null,
            "grid_column": null,
            "grid_gap": null,
            "grid_row": null,
            "grid_template_areas": null,
            "grid_template_columns": null,
            "grid_template_rows": null,
            "height": null,
            "justify_content": null,
            "justify_items": null,
            "left": null,
            "margin": null,
            "max_height": null,
            "max_width": null,
            "min_height": null,
            "min_width": null,
            "object_fit": null,
            "object_position": null,
            "order": null,
            "overflow": null,
            "overflow_x": null,
            "overflow_y": null,
            "padding": null,
            "right": null,
            "top": null,
            "visibility": null,
            "width": null
          }
        },
        "b45d0ecacdce4b9e9c6e077d71abe2f5": {
          "model_module": "@jupyter-widgets/controls",
          "model_module_version": "1.5.0",
          "model_name": "ProgressStyleModel",
          "state": {
            "_model_module": "@jupyter-widgets/controls",
            "_model_module_version": "1.5.0",
            "_model_name": "ProgressStyleModel",
            "_view_count": null,
            "_view_module": "@jupyter-widgets/base",
            "_view_module_version": "1.2.0",
            "_view_name": "StyleView",
            "bar_color": null,
            "description_width": ""
          }
        },
        "c47cb61ca8a64fd8912519f3a939d4a9": {
          "model_module": "@jupyter-widgets/controls",
          "model_module_version": "1.5.0",
          "model_name": "VBoxModel",
          "state": {
            "_dom_classes": [],
            "_model_module": "@jupyter-widgets/controls",
            "_model_module_version": "1.5.0",
            "_model_name": "VBoxModel",
            "_view_count": null,
            "_view_module": "@jupyter-widgets/controls",
            "_view_module_version": "1.5.0",
            "_view_name": "VBoxView",
            "box_style": "",
            "children": [
              "IPY_MODEL_8ba81997b7eb49699013fddac0ffa13e",
              "IPY_MODEL_12125900553f4f9aa876c9fecc932e1c"
            ],
            "layout": "IPY_MODEL_4f6271c6a3cf42639381902468d0e73a"
          }
        }
      }
    }
  },
  "nbformat": 4,
  "nbformat_minor": 0
}
